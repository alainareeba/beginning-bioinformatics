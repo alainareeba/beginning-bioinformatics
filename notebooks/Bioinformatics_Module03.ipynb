{
  "nbformat": 4,
  "nbformat_minor": 0,
  "metadata": {
    "colab": {
      "provenance": []
    },
    "kernelspec": {
      "name": "python3",
      "display_name": "Python 3"
    },
    "language_info": {
      "name": "python"
    }
  },
  "cells": [
    {
      "cell_type": "code",
      "execution_count": null,
      "metadata": {
        "colab": {
          "base_uri": "https://localhost:8080/"
        },
        "id": "q7tzuCVcFdTj",
        "outputId": "c43f8371-e12e-43c3-98f9-5067fb79c81e"
      },
      "outputs": [
        {
          "output_type": "stream",
          "name": "stdout",
          "text": [
            "Hello World!\n"
          ]
        }
      ],
      "source": [
        "print (\"Hello World!\")"
      ]
    },
    {
      "cell_type": "code",
      "source": [
        "x=5\n",
        "print(x)"
      ],
      "metadata": {
        "colab": {
          "base_uri": "https://localhost:8080/"
        },
        "id": "XDmiiCaVGJLi",
        "outputId": "1932faf2-d4ab-4284-c33a-1ded049d9feb"
      },
      "execution_count": null,
      "outputs": [
        {
          "output_type": "stream",
          "name": "stdout",
          "text": [
            "5\n"
          ]
        }
      ]
    },
    {
      "cell_type": "markdown",
      "metadata": {
        "id": "cd7dc669"
      },
      "source": [
        "In Python, the assignment operator (`=`) is used to assign values to variables. Here are three examples:\n",
        "\n",
        "1.  **Assigning a numerical value:**"
      ]
    },
    {
      "cell_type": "code",
      "metadata": {
        "colab": {
          "base_uri": "https://localhost:8080/"
        },
        "id": "dabb4edc",
        "outputId": "7dad583a-b946-4980-bdc1-3dda9f9da6ef"
      },
      "source": [
        "    # Assign the string \"Alice\" to the variable 'name'\n",
        "    name = \"Alice\"\n",
        "    print(name)"
      ],
      "execution_count": null,
      "outputs": [
        {
          "output_type": "stream",
          "name": "stdout",
          "text": [
            "Alice\n"
          ]
        }
      ]
    },
    {
      "cell_type": "code",
      "metadata": {
        "colab": {
          "base_uri": "https://localhost:8080/"
        },
        "id": "614f8b12",
        "outputId": "9fd26eca-86da-4ff9-fc73-9e798ca722db"
      },
      "source": [
        "    # Assign the result of the addition (5 + 3) to the variable 'sum_result'\n",
        "    sum_result = 5 + 3\n",
        "    print(sum_result)"
      ],
      "execution_count": null,
      "outputs": [
        {
          "output_type": "stream",
          "name": "stdout",
          "text": [
            "8\n"
          ]
        }
      ]
    },
    {
      "cell_type": "code",
      "metadata": {
        "colab": {
          "base_uri": "https://localhost:8080/"
        },
        "id": "1e860624",
        "outputId": "96dd8c30-2716-4d1c-d7ec-a2715acc194a"
      },
      "source": [
        "# Assign the boolean value True to the variable 'is_active'\n",
        "is_active = True\n",
        "print(is_active)"
      ],
      "execution_count": null,
      "outputs": [
        {
          "output_type": "stream",
          "name": "stdout",
          "text": [
            "True\n"
          ]
        }
      ]
    },
    {
      "cell_type": "code",
      "source": [
        "a=3\n",
        "b=5\n",
        "c=a**2+b**2\n",
        "c"
      ],
      "metadata": {
        "colab": {
          "base_uri": "https://localhost:8080/"
        },
        "id": "yuxHQrhYHtE9",
        "outputId": "86c6fc4b-2e18-41e4-ce66-fbaa36c46854"
      },
      "execution_count": null,
      "outputs": [
        {
          "output_type": "execute_result",
          "data": {
            "text/plain": [
              "34"
            ]
          },
          "metadata": {},
          "execution_count": 9
        }
      ]
    },
    {
      "cell_type": "markdown",
      "source": [
        "Download the dataset and put the dataset in the code, then paste the right answer. Upload your code as well"
      ],
      "metadata": {
        "id": "cx5F3BP-IiPz"
      }
    },
    {
      "cell_type": "code",
      "source": [
        "## Rosalind Question #1\n",
        "a=934\n",
        "b=814\n",
        "c=a**2+b**2\n",
        "print(c)"
      ],
      "metadata": {
        "id": "TCkDKX4MIh6u",
        "colab": {
          "base_uri": "https://localhost:8080/"
        },
        "outputId": "c4e087d7-5797-48e3-af6c-693fec0fa07a"
      },
      "execution_count": null,
      "outputs": [
        {
          "output_type": "stream",
          "name": "stdout",
          "text": [
            "1534952\n"
          ]
        }
      ]
    },
    {
      "cell_type": "markdown",
      "source": [
        "#P6.1"
      ],
      "metadata": {
        "id": "J_4OVtEkuSwZ"
      }
    },
    {
      "cell_type": "code",
      "source": [
        "# Input usage\n",
        "name = input(\"Enter your name: \")\n",
        "print(\"Hello, \" + name)"
      ],
      "metadata": {
        "colab": {
          "base_uri": "https://localhost:8080/"
        },
        "id": "bAA-cx_Vt9S3",
        "outputId": "abb4da43-515e-459f-9d63-fefa85af04b5"
      },
      "execution_count": null,
      "outputs": [
        {
          "output_type": "stream",
          "name": "stdout",
          "text": [
            "Enter your name: Alain\n",
            "Hello, Alain\n"
          ]
        }
      ]
    },
    {
      "cell_type": "markdown",
      "source": [
        "#P6.2"
      ],
      "metadata": {
        "id": "gLdidPlIuYz3"
      }
    },
    {
      "cell_type": "code",
      "source": [
        "#Input usage for Rosalind #1\n",
        "a= input(\"What is the value of a? \")\n",
        "b= input(\"What is the value of b? \")\n",
        "c=int(a)**2+int(b)**2 # must put int in front that whatever input is turned into a int\n",
        "print(c)"
      ],
      "metadata": {
        "colab": {
          "base_uri": "https://localhost:8080/"
        },
        "id": "Db7SBP7quch4",
        "outputId": "bd860479-0294-47e5-cfa1-f0fa9b824ad8"
      },
      "execution_count": null,
      "outputs": [
        {
          "output_type": "stream",
          "name": "stdout",
          "text": [
            "What is the value of a? 834\n",
            "What is the value of b? 254\n",
            "760072\n"
          ]
        }
      ]
    },
    {
      "cell_type": "markdown",
      "source": [
        "#P7.1"
      ],
      "metadata": {
        "id": "xHxaIZ5-vquN"
      }
    },
    {
      "cell_type": "code",
      "source": [
        "my_list = [\"Hello\", \"World\", \"Charles Darwin\"]\n",
        "print(my_list[1])"
      ],
      "metadata": {
        "colab": {
          "base_uri": "https://localhost:8080/"
        },
        "id": "nu13nXlDvs1z",
        "outputId": "3eb89abc-41dd-41fb-96bb-f77eaf18cbc6"
      },
      "execution_count": null,
      "outputs": [
        {
          "output_type": "stream",
          "name": "stdout",
          "text": [
            "World\n"
          ]
        }
      ]
    },
    {
      "cell_type": "markdown",
      "source": [
        "#P7.2"
      ],
      "metadata": {
        "id": "3WmT5HcZ_o-k"
      }
    },
    {
      "cell_type": "code",
      "source": [
        "my_list[2]=\"Alfred R. Wallace\"\n",
        "print(my_list)"
      ],
      "metadata": {
        "colab": {
          "base_uri": "https://localhost:8080/"
        },
        "id": "cc-AfySV_rZs",
        "outputId": "51429412-ea6e-4f0c-8a04-3e5a57e51426"
      },
      "execution_count": null,
      "outputs": [
        {
          "output_type": "stream",
          "name": "stdout",
          "text": [
            "['Hello', 'World', 'Alfred R. Wallace']\n"
          ]
        }
      ]
    },
    {
      "cell_type": "markdown",
      "source": [
        "#P7.3"
      ],
      "metadata": {
        "id": "Jd1uraK4_6u8"
      }
    },
    {
      "cell_type": "code",
      "source": [
        "my_list.append(\"Charles Darwin\")\n",
        "print(my_list)"
      ],
      "metadata": {
        "colab": {
          "base_uri": "https://localhost:8080/"
        },
        "id": "aUenNCII_9Zd",
        "outputId": "cdd73157-7dd5-4002-e4a4-e92297b9a629"
      },
      "execution_count": null,
      "outputs": [
        {
          "output_type": "stream",
          "name": "stdout",
          "text": [
            "['Hello', 'World', 'Alfred R. Wallace', 'Charles Darwin']\n"
          ]
        }
      ]
    },
    {
      "cell_type": "markdown",
      "source": [
        "#P7.4"
      ],
      "metadata": {
        "id": "s-X0b8GNAF7-"
      }
    },
    {
      "cell_type": "code",
      "source": [],
      "metadata": {
        "colab": {
          "base_uri": "https://localhost:8080/"
        },
        "id": "OtNftMTtBuF-",
        "outputId": "42d5ba1b-1bcc-406e-af27-c4f934e13c05"
      },
      "execution_count": null,
      "outputs": [
        {
          "output_type": "stream",
          "name": "stdout",
          "text": [
            "['Hello', 'Rosalind Franklin', 'World', 'Alfred R. Wallace', 'Charles Darwin']\n"
          ]
        }
      ]
    },
    {
      "cell_type": "markdown",
      "source": [
        "#P8.1"
      ],
      "metadata": {
        "id": "Jp42YhriAo1Z"
      }
    },
    {
      "cell_type": "code",
      "source": [
        "print (my_list[2:4]) #endpoints are non-inclusive"
      ],
      "metadata": {
        "colab": {
          "base_uri": "https://localhost:8080/"
        },
        "id": "ivc_qVO5BCaP",
        "outputId": "3dc53165-97dc-4ed1-8b34-c1b092872094"
      },
      "execution_count": null,
      "outputs": [
        {
          "output_type": "stream",
          "name": "stdout",
          "text": [
            "['World', 'Alfred R. Wallace']\n"
          ]
        }
      ]
    },
    {
      "cell_type": "code",
      "source": [
        "my_string=\"HelloWorldCharlesDarwinAlfred R. Walace\"\n",
        "print(my_string[0:5], my_string[5:10])"
      ],
      "metadata": {
        "colab": {
          "base_uri": "https://localhost:8080/"
        },
        "id": "WTPxOj73CaIP",
        "outputId": "a5c8b4ed-a503-46df-b91e-4da5d351c171"
      },
      "execution_count": null,
      "outputs": [
        {
          "output_type": "stream",
          "name": "stdout",
          "text": [
            "Hello World\n"
          ]
        }
      ]
    },
    {
      "cell_type": "markdown",
      "source": [
        "#P8.2"
      ],
      "metadata": {
        "id": "zr-GIDh2LirR"
      }
    },
    {
      "cell_type": "code",
      "source": [
        "print(my_string[33:39], my_string[5:10])"
      ],
      "metadata": {
        "colab": {
          "base_uri": "https://localhost:8080/"
        },
        "id": "6gmmmj7AEFz7",
        "outputId": "440388bc-d4a2-44fc-8e7c-710a8c13222c"
      },
      "execution_count": null,
      "outputs": [
        {
          "output_type": "stream",
          "name": "stdout",
          "text": [
            "Walace World\n"
          ]
        }
      ]
    },
    {
      "cell_type": "markdown",
      "source": [
        "#P8.3: Rosalind Problem #2"
      ],
      "metadata": {
        "id": "F4Uik9FKLuJ5"
      }
    },
    {
      "cell_type": "code",
      "source": [
        "my_string2=\"HumptyDumptysatonawallHumptyDumptyhadagreatfallAlltheKingshorsesandalltheKingsmenCouldntputHumptyDumptyinhisplaceagain.\"\n",
        "\n",
        "print(my_string2[22:28],my_string2[97:103])"
      ],
      "metadata": {
        "colab": {
          "base_uri": "https://localhost:8080/"
        },
        "id": "5UNn-BKHL1cS",
        "outputId": "bc3fa41c-c1fe-4818-f2fc-d35fb26b11c1"
      },
      "execution_count": null,
      "outputs": [
        {
          "output_type": "stream",
          "name": "stdout",
          "text": [
            "Humpty Dumpty\n"
          ]
        }
      ]
    },
    {
      "cell_type": "code",
      "source": [
        "my_string3=\"Pv6RwUIbq2B5555dMHq0MmWsLxRESVJPm84PSEPA3WOEDtLBzQKKHquV9Gqb7UoYlYldSUCiconiaR5AWBFtS0Y8Xumy6YBFBTleptochelisIstdrAl3hAORXijhE7nGIl29l61VxcI5vYfXhrenHlEQqyrytJlQERfBc5DWAqKl7phiZ\"\n",
        "\n",
        "print(my_string3[70:77], my_string3[98:109])"
      ],
      "metadata": {
        "colab": {
          "base_uri": "https://localhost:8080/"
        },
        "id": "9bZFANC7RhGd",
        "outputId": "38919137-c1f4-41c8-8c65-3f200651d9ce"
      },
      "execution_count": null,
      "outputs": [
        {
          "output_type": "stream",
          "name": "stdout",
          "text": [
            "Ciconia leptochelis\n"
          ]
        }
      ]
    },
    {
      "cell_type": "markdown",
      "source": [
        "#P9.1"
      ],
      "metadata": {
        "id": "WAbzvgMNw0NS"
      }
    },
    {
      "cell_type": "code",
      "source": [
        "a=5\n",
        "b=5\n",
        "if a!=b:\n",
        "  print(a-b)\n",
        "else:\n",
        "  print(a+b)"
      ],
      "metadata": {
        "colab": {
          "base_uri": "https://localhost:8080/"
        },
        "id": "QzGUxyB2xUFk",
        "outputId": "8d70ce54-bbab-4848-e5fe-5a4be5e965e5"
      },
      "execution_count": null,
      "outputs": [
        {
          "output_type": "stream",
          "name": "stdout",
          "text": [
            "10\n"
          ]
        }
      ]
    },
    {
      "cell_type": "markdown",
      "source": [
        "#P10.1"
      ],
      "metadata": {
        "id": "6h8Da_M-xsc4"
      }
    },
    {
      "cell_type": "code",
      "source": [
        "a=1\n",
        "while a <= 3:\n",
        "  print(\"Counting!\")\n",
        "  a +=1"
      ],
      "metadata": {
        "colab": {
          "base_uri": "https://localhost:8080/"
        },
        "id": "mun8L0oKxt2P",
        "outputId": "888bbe26-7775-43ca-b9b9-fbc3c59f611d"
      },
      "execution_count": null,
      "outputs": [
        {
          "output_type": "stream",
          "name": "stdout",
          "text": [
            "Counting!\n",
            "Counting!\n",
            "Counting!\n"
          ]
        }
      ]
    },
    {
      "cell_type": "code",
      "source": [
        "a=1\n",
        "while a <= 3:\n",
        "  print(\"Counting!\" * a)\n",
        "  a +=1"
      ],
      "metadata": {
        "colab": {
          "base_uri": "https://localhost:8080/"
        },
        "id": "Ewq0Xn6ryMKD",
        "outputId": "36f7f957-cd12-49ba-c0ec-2a8204c86236"
      },
      "execution_count": null,
      "outputs": [
        {
          "output_type": "stream",
          "name": "stdout",
          "text": [
            "Counting!\n",
            "Counting!Counting!\n",
            "Counting!Counting!Counting!\n"
          ]
        }
      ]
    },
    {
      "cell_type": "markdown",
      "source": [
        "#P11.1"
      ],
      "metadata": {
        "id": "6bC2B5q1ygeC"
      }
    },
    {
      "cell_type": "code",
      "source": [
        "names = [\"Alice\",\"Bob\",\"Charley\"]\n",
        "for name in names:\n",
        "  print(\"Hello\", name)"
      ],
      "metadata": {
        "colab": {
          "base_uri": "https://localhost:8080/"
        },
        "id": "M3y33DgpyiRL",
        "outputId": "200622f6-6390-4a40-fc5c-46e8098a6bcc"
      },
      "execution_count": null,
      "outputs": [
        {
          "output_type": "stream",
          "name": "stdout",
          "text": [
            "Hello Alice\n",
            "Hello Bob\n",
            "Hello Charley\n"
          ]
        }
      ]
    },
    {
      "cell_type": "markdown",
      "source": [
        "#P12.1"
      ],
      "metadata": {
        "id": "M4o-BjNpy5i-"
      }
    },
    {
      "cell_type": "code",
      "source": [
        "iterations = 10\n",
        "for number in range(iterations):\n",
        "  print(number)"
      ],
      "metadata": {
        "colab": {
          "base_uri": "https://localhost:8080/"
        },
        "id": "DhW06mQ0yukn",
        "outputId": "af895b2f-5f30-4058-f399-b3ef7b245a4a"
      },
      "execution_count": null,
      "outputs": [
        {
          "output_type": "stream",
          "name": "stdout",
          "text": [
            "0\n",
            "1\n",
            "2\n",
            "3\n",
            "4\n",
            "5\n",
            "6\n",
            "7\n",
            "8\n",
            "9\n"
          ]
        }
      ]
    },
    {
      "cell_type": "markdown",
      "source": [
        "#P12.2"
      ],
      "metadata": {
        "id": "ZCIk16Nhz1-r"
      }
    },
    {
      "cell_type": "code",
      "source": [
        "for number in range(9, 28, 3): #starts at 9, ends at 27, hops by 3\n",
        "    print(number)"
      ],
      "metadata": {
        "colab": {
          "base_uri": "https://localhost:8080/"
        },
        "id": "whZECnOuz3vZ",
        "outputId": "70e04cd8-765a-4076-caa5-76294016ee79"
      },
      "execution_count": null,
      "outputs": [
        {
          "output_type": "stream",
          "name": "stdout",
          "text": [
            "9\n",
            "12\n",
            "15\n",
            "18\n",
            "21\n",
            "24\n",
            "27\n"
          ]
        }
      ]
    },
    {
      "cell_type": "markdown",
      "source": [
        "#P12.3 Rosalind Problem #3\n",
        "\n",
        "\n"
      ],
      "metadata": {
        "id": "BMDhf874zHNM"
      }
    },
    {
      "cell_type": "code",
      "source": [
        "a = 100\n",
        "b = 200\n",
        "\n",
        "total = sum(number for number in range(a, b + 1) if number % 2 == 1)\n",
        "        # sum = adding them up\n",
        "        # range(a,b+1)= makes sure it's including the actual numbers\n",
        "        # not the one before it\n",
        "        # used the hint to make sure its odd\n",
        "print(total)"
      ],
      "metadata": {
        "colab": {
          "base_uri": "https://localhost:8080/"
        },
        "id": "WIOWOrT61sSo",
        "outputId": "cfa74531-d6ed-43e6-c8fc-0ca2a29c291c"
      },
      "execution_count": null,
      "outputs": [
        {
          "output_type": "stream",
          "name": "stdout",
          "text": [
            "7500\n"
          ]
        }
      ]
    },
    {
      "cell_type": "code",
      "source": [
        "a=4782\n",
        "b=9578\n",
        "total = sum(number for number in range(a, b + 1) if number % 2 == 1)\n",
        "print(total)"
      ],
      "metadata": {
        "colab": {
          "base_uri": "https://localhost:8080/"
        },
        "id": "BoP29FHK23yO",
        "outputId": "824002f7-3486-4c55-f997-983135785297"
      },
      "execution_count": null,
      "outputs": [
        {
          "output_type": "stream",
          "name": "stdout",
          "text": [
            "17217640\n"
          ]
        }
      ]
    },
    {
      "cell_type": "markdown",
      "source": [
        "#P13.2"
      ],
      "metadata": {
        "id": "4LfzO9zXamou"
      }
    },
    {
      "cell_type": "code",
      "source": [
        "with open(\"rosalind_ini5 (2).txt\") as data:\n",
        "  print(data.readline())\n"
      ],
      "metadata": {
        "id": "DNqYKRoRXIIj",
        "colab": {
          "base_uri": "https://localhost:8080/"
        },
        "outputId": "a9bf8d95-bd36-46da-861d-a626d919e1e1"
      },
      "execution_count": 1,
      "outputs": [
        {
          "output_type": "stream",
          "name": "stdout",
          "text": [
            "`Twas brillig, and the slithy toves\n",
            "\n"
          ]
        }
      ]
    },
    {
      "cell_type": "markdown",
      "source": [
        "#P15.2"
      ],
      "metadata": {
        "id": "GDKNY2uh7Lb8"
      }
    },
    {
      "cell_type": "code",
      "source": [
        "with open(\"rosalind_ini5 (2).txt\") as input, open(\"output.txt\", \"w\") as output:\n",
        "    for i, line in enumerate(input, start=1):\n",
        "        if i % 2 == 0:\n",
        "            output.write(line)   # write to output file\n",
        "            print(line, end=\"\")   # print here so we can see"
      ],
      "metadata": {
        "colab": {
          "base_uri": "https://localhost:8080/"
        },
        "id": "FsLGfFVrUDAH",
        "outputId": "07854bcd-b5a2-44df-b3ae-eb7a29143785"
      },
      "execution_count": null,
      "outputs": [
        {
          "output_type": "stream",
          "name": "stdout",
          "text": [
            "Some things in life are bad, they can really make you mad\n",
            "Other things just make you swear and curse\n",
            "When you're chewing on life's gristle, don't grumble give a whistle\n",
            "This will help things turn out for the best\n",
            "Always look on the bright side of life\n",
            "Always look on the right side of life\n",
            "If life seems jolly rotten, there's something you've forgotten\n",
            "And that's to laugh and smile and dance and sing\n",
            "When you're feeling in the dumps, don't be silly, chumps\n",
            "Just purse your lips and whistle, that's the thing\n",
            "So, always look on the bright side of death\n",
            "Just before you draw your terminal breath\n",
            "Life's a counterfeit and when you look at it\n",
            "Life's a laugh and death's the joke, it's true\n",
            "You see, it's all a show, keep them laughing as you go\n",
            "Just remember the last laugh is on you\n",
            "Always look on the bright side of life\n",
            "And always look on the right side of life\n",
            "Always look on the bright side of life\n",
            "And always look on the right side of life\n"
          ]
        }
      ]
    },
    {
      "cell_type": "markdown",
      "source": [
        "#P18"
      ],
      "metadata": {
        "id": "FhHP-djT6Csa"
      }
    },
    {
      "cell_type": "code",
      "source": [
        "sequences[\"P.troglodytes\"] = \"ACGTCACTCTCCTA\""
      ],
      "metadata": {
        "id": "RWyygTfv6EOn"
      },
      "execution_count": null,
      "outputs": []
    },
    {
      "cell_type": "markdown",
      "source": [
        "#P18.2"
      ],
      "metadata": {
        "id": "_Lh9p3sh5pGs"
      }
    },
    {
      "cell_type": "code",
      "source": [
        "passage = \"We tried list and we tried dicts also we tried Zen\"\n",
        "words = passage.split(' ')\n",
        "word_dict = {}\n",
        "\n",
        "for word in words:\n",
        "    if word in word_dict:\n",
        "        word_dict[word] += 1\n",
        "    else:\n",
        "        word_dict[word] = 1\n",
        "\n",
        "for key, value in word_dict.items():\n",
        "    print(key, value)\n"
      ],
      "metadata": {
        "colab": {
          "base_uri": "https://localhost:8080/"
        },
        "id": "U931d2KCy2mM",
        "outputId": "bbd9fc91-9f1e-4890-988d-93f2cbec397c"
      },
      "execution_count": 3,
      "outputs": [
        {
          "output_type": "stream",
          "name": "stdout",
          "text": [
            "We 1\n",
            "tried 3\n",
            "list 1\n",
            "and 1\n",
            "we 2\n",
            "dicts 1\n",
            "also 1\n",
            "Zen 1\n"
          ]
        }
      ]
    },
    {
      "cell_type": "markdown",
      "source": [
        "## Pipeline"
      ],
      "metadata": {
        "id": "f1r0FHkm8mNW"
      }
    },
    {
      "cell_type": "markdown",
      "source": [
        "![image.png](data:image/png;base64,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)"
      ],
      "metadata": {
        "id": "3Lklyge88vt5"
      }
    },
    {
      "cell_type": "code",
      "source": [
        "passage = \"When I find myself in times of trouble Mother Mary comes to me Speaking words of wisdom let it be And in my hour of darkness she is standing right in front of me Speaking words of wisdom let it be Let it be let it be let it be let it be Whisper words of wisdom let it be And when the broken hearted people living in the world agree There will be an answer let it be For though they may be parted there is still a chance that they will see There will be an answer let it be Let it be let it be let it be let it be There will be an answer let it be Let it be let it be let it be let it be Whisper words of wisdom let it be Let it be let it be let it be let it be Whisper words of wisdom let it be And when the night is cloudy there is still a light that shines on me Shine until tomorrow let it be I wake up to the sound of music Mother Mary comes to me Speaking words of wisdom let it be Let it be let it be let it be yeah let it be There will be an answer let it be Let it be let it be let it be yeah let it be Whisper words of wisdom let it be\"\n",
        "words = passage.split(' ')\n",
        "word_dict = {}\n",
        "# here I wasn't able to upload the txt file, so I had to manually paste it\n",
        "for word in words:\n",
        "    if word in word_dict:\n",
        "        word_dict[word] += 1 # counting\n",
        "    else:\n",
        "        word_dict[word] = 1\n",
        "\n",
        "for key, value in word_dict.items():\n",
        "    print(key, value)"
      ],
      "metadata": {
        "colab": {
          "base_uri": "https://localhost:8080/"
        },
        "id": "_uw0m9l472sx",
        "outputId": "42788fd6-199b-4ec6-aeaa-f05c25d804d0"
      },
      "execution_count": 4,
      "outputs": [
        {
          "output_type": "stream",
          "name": "stdout",
          "text": [
            "When 1\n",
            "I 2\n",
            "find 1\n",
            "myself 1\n",
            "in 4\n",
            "times 1\n",
            "of 11\n",
            "trouble 1\n",
            "Mother 2\n",
            "Mary 2\n",
            "comes 2\n",
            "to 3\n",
            "me 4\n",
            "Speaking 3\n",
            "words 7\n",
            "wisdom 7\n",
            "let 30\n",
            "it 36\n",
            "be 41\n",
            "And 3\n",
            "my 1\n",
            "hour 1\n",
            "darkness 1\n",
            "she 1\n",
            "is 4\n",
            "standing 1\n",
            "right 1\n",
            "front 1\n",
            "Let 6\n",
            "Whisper 4\n",
            "when 2\n",
            "the 4\n",
            "broken 1\n",
            "hearted 1\n",
            "people 1\n",
            "living 1\n",
            "world 1\n",
            "agree 1\n",
            "There 4\n",
            "will 5\n",
            "an 4\n",
            "answer 4\n",
            "For 1\n",
            "though 1\n",
            "they 2\n",
            "may 1\n",
            "parted 1\n",
            "there 2\n",
            "still 2\n",
            "a 2\n",
            "chance 1\n",
            "that 2\n",
            "see 1\n",
            "night 1\n",
            "cloudy 1\n",
            "light 1\n",
            "shines 1\n",
            "on 1\n",
            "Shine 1\n",
            "until 1\n",
            "tomorrow 1\n",
            "wake 1\n",
            "up 1\n",
            "sound 1\n",
            "music 1\n",
            "yeah 2\n"
          ]
        }
      ]
    },
    {
      "cell_type": "markdown",
      "source": [
        "#P19.1"
      ],
      "metadata": {
        "id": "MK821enN-LOR"
      }
    },
    {
      "cell_type": "markdown",
      "source": [
        "![image.png](data:image/png;base64,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)![image.png]()"
      ],
      "metadata": {
        "id": "wrSDYDfxAr6_"
      }
    },
    {
      "cell_type": "code",
      "source": [
        "#test\n",
        "with open(\"dna.txt\", \"w\") as file:\n",
        "    file.write(\"AGCTTTTCATTCTGACTGCAACGGGCAATATGTCTCTGTGTGGATTAAAAAAAGAGTGTCTGATAGCAGC\")"
      ],
      "metadata": {
        "id": "lBDce5FOCu8L"
      },
      "execution_count": 7,
      "outputs": []
    },
    {
      "cell_type": "code",
      "source": [
        "# test\n",
        "with open(\"dna.txt\", \"r\") as file:\n",
        "    s = file.read().strip()\n",
        "\n",
        "# count nucleotides\n",
        "a_count = s.count(\"A\")\n",
        "c_count = s.count(\"C\")\n",
        "g_count = s.count(\"G\")\n",
        "t_count = s.count(\"T\")\n",
        "\n",
        "print(f\"A: {a_count}, C: {c_count}, G: {g_count}, T: {t_count}\")\n",
        "\n"
      ],
      "metadata": {
        "colab": {
          "base_uri": "https://localhost:8080/"
        },
        "id": "NphyqIJA-NNn",
        "outputId": "f6ba96e9-5749-4207-cf9f-b71a054929ee"
      },
      "execution_count": 10,
      "outputs": [
        {
          "output_type": "stream",
          "name": "stdout",
          "text": [
            "A: 20, C: 12, G: 17, T: 21\n"
          ]
        }
      ]
    },
    {
      "cell_type": "code",
      "source": [
        "with open(\"rosalind_dna.txt\", \"r\") as file:\n",
        "    s = file.read().strip()\n",
        "\n",
        "# count nucleotides\n",
        "a_count = s.count(\"A\")\n",
        "c_count = s.count(\"C\")\n",
        "g_count = s.count(\"G\")\n",
        "t_count = s.count(\"T\")\n",
        "\n",
        "print(f\"A: {a_count}, C: {c_count}, G: {g_count}, T: {t_count}\")"
      ],
      "metadata": {
        "colab": {
          "base_uri": "https://localhost:8080/"
        },
        "id": "ameHLVtmDSZF",
        "outputId": "a22b9ff6-58ca-455f-df0a-5e8038196ebe"
      },
      "execution_count": 11,
      "outputs": [
        {
          "output_type": "stream",
          "name": "stdout",
          "text": [
            "A: 235, C: 260, G: 223, T: 258\n"
          ]
        }
      ]
    },
    {
      "cell_type": "markdown",
      "source": [
        "#P19.2"
      ],
      "metadata": {
        "id": "FmSVpkzuEa1C"
      }
    },
    {
      "cell_type": "code",
      "source": [
        "passage = \"When I find myself in times of trouble Mother Mary comes to me Speaking words of wisdom let it be And in my hour of darkness she is standing right in front of me Speaking words of wisdom let it be Let it be let it be let it be let it be Whisper words of wisdom let it be And when the broken hearted people living in the world agree There will be an answer let it be For though they may be parted there is still a chance that they will see There will be an answer let it be Let it be let it be let it be let it be There will be an answer let it be Let it be let it be let it be let it be Whisper words of wisdom let it be Let it be let it be let it be let it be Whisper words of wisdom let it be And when the night is cloudy there is still a light that shines on me Shine until tomorrow let it be I wake up to the sound of music Mother Mary comes to me Speaking words of wisdom let it be Let it be let it be let it be yeah let it be There will be an answer let it be Let it be let it be let it be yeah let it be Whisper words of wisdom let it be\"\n",
        "\n",
        "words = passage.split(' ')\n",
        "word_dict = {}\n",
        "\n",
        "for word in words:\n",
        "    word_dict[word] = words.count(word)  # directly count occurrences\n",
        "\n",
        "for key, value in word_dict.items():\n",
        "    print(key, value)\n"
      ],
      "metadata": {
        "colab": {
          "base_uri": "https://localhost:8080/"
        },
        "id": "NMGRp55ZEDwq",
        "outputId": "b218ea07-e832-4c82-df8d-eb828192ffe4"
      },
      "execution_count": 12,
      "outputs": [
        {
          "output_type": "stream",
          "name": "stdout",
          "text": [
            "When 1\n",
            "I 2\n",
            "find 1\n",
            "myself 1\n",
            "in 4\n",
            "times 1\n",
            "of 11\n",
            "trouble 1\n",
            "Mother 2\n",
            "Mary 2\n",
            "comes 2\n",
            "to 3\n",
            "me 4\n",
            "Speaking 3\n",
            "words 7\n",
            "wisdom 7\n",
            "let 30\n",
            "it 36\n",
            "be 41\n",
            "And 3\n",
            "my 1\n",
            "hour 1\n",
            "darkness 1\n",
            "she 1\n",
            "is 4\n",
            "standing 1\n",
            "right 1\n",
            "front 1\n",
            "Let 6\n",
            "Whisper 4\n",
            "when 2\n",
            "the 4\n",
            "broken 1\n",
            "hearted 1\n",
            "people 1\n",
            "living 1\n",
            "world 1\n",
            "agree 1\n",
            "There 4\n",
            "will 5\n",
            "an 4\n",
            "answer 4\n",
            "For 1\n",
            "though 1\n",
            "they 2\n",
            "may 1\n",
            "parted 1\n",
            "there 2\n",
            "still 2\n",
            "a 2\n",
            "chance 1\n",
            "that 2\n",
            "see 1\n",
            "night 1\n",
            "cloudy 1\n",
            "light 1\n",
            "shines 1\n",
            "on 1\n",
            "Shine 1\n",
            "until 1\n",
            "tomorrow 1\n",
            "wake 1\n",
            "up 1\n",
            "sound 1\n",
            "music 1\n",
            "yeah 2\n"
          ]
        }
      ]
    },
    {
      "cell_type": "markdown",
      "source": [
        "#P20.1"
      ],
      "metadata": {
        "id": "EpDqAFPh6oEo"
      }
    },
    {
      "cell_type": "code",
      "source": [
        "from Bio.Seq import Seq\n",
        "my_seq = Seq(\"AGTACACTGGT\")\n",
        "my_seq"
      ],
      "metadata": {
        "colab": {
          "base_uri": "https://localhost:8080/"
        },
        "id": "4b3whqM5-A7c",
        "outputId": "71a22d3a-34eb-44d4-eaae-1f01236f962f"
      },
      "execution_count": 5,
      "outputs": [
        {
          "output_type": "execute_result",
          "data": {
            "text/plain": [
              "Seq('AGTACACTGGT')"
            ]
          },
          "metadata": {},
          "execution_count": 5
        }
      ]
    },
    {
      "cell_type": "code",
      "source": [
        "my_seq.complement()"
      ],
      "metadata": {
        "colab": {
          "base_uri": "https://localhost:8080/"
        },
        "id": "PP8lhEs4AojY",
        "outputId": "c60bfadb-d6ab-447d-a199-ad6452ef5c5b"
      },
      "execution_count": 6,
      "outputs": [
        {
          "output_type": "execute_result",
          "data": {
            "text/plain": [
              "Seq('TCATGTGACCA')"
            ]
          },
          "metadata": {},
          "execution_count": 6
        }
      ]
    },
    {
      "cell_type": "markdown",
      "source": [
        "#P21"
      ],
      "metadata": {
        "id": "aczAcmj3-Bkl"
      }
    },
    {
      "cell_type": "code",
      "source": [
        "!pip install biopython"
      ],
      "metadata": {
        "colab": {
          "base_uri": "https://localhost:8080/"
        },
        "id": "9f2esw3S6rgH",
        "outputId": "7a50fe32-ff0f-4da6-dedd-b0461445e2ce"
      },
      "execution_count": 2,
      "outputs": [
        {
          "output_type": "stream",
          "name": "stdout",
          "text": [
            "Collecting biopython\n",
            "  Downloading biopython-1.85-cp312-cp312-manylinux_2_17_x86_64.manylinux2014_x86_64.whl.metadata (13 kB)\n",
            "Requirement already satisfied: numpy in /usr/local/lib/python3.12/dist-packages (from biopython) (2.0.2)\n",
            "Downloading biopython-1.85-cp312-cp312-manylinux_2_17_x86_64.manylinux2014_x86_64.whl (3.3 MB)\n",
            "\u001b[2K   \u001b[90m━━━━━━━━━━━━━━━━━━━━━━━━━━━━━━━━━━━━━━━━\u001b[0m \u001b[32m3.3/3.3 MB\u001b[0m \u001b[31m41.9 MB/s\u001b[0m eta \u001b[36m0:00:00\u001b[0m\n",
            "\u001b[?25hInstalling collected packages: biopython\n",
            "Successfully installed biopython-1.85\n"
          ]
        }
      ]
    },
    {
      "cell_type": "markdown",
      "source": [
        "#P21.1"
      ],
      "metadata": {
        "id": "ty4l4SkcRpDn"
      }
    },
    {
      "cell_type": "code",
      "source": [
        "t = \"GATGGAACTTGACTACGTAAATT\"\n",
        "dna_seq = Seq(t)\n",
        "\n",
        "rna_seq = dna_seq.transcribe()\n",
        "\n",
        "print(rna_seq)"
      ],
      "metadata": {
        "colab": {
          "base_uri": "https://localhost:8080/"
        },
        "id": "qlgoFyKJIfx9",
        "outputId": "26e0b86d-6fc9-4a09-bd9c-63ed113b7515"
      },
      "execution_count": 14,
      "outputs": [
        {
          "output_type": "stream",
          "name": "stdout",
          "text": [
            "GAUGGAACUUGACUACGUAAAUU\n"
          ]
        }
      ]
    },
    {
      "cell_type": "code",
      "source": [
        "with open(\"rosalind_rna.txt\", \"r\") as file:\n",
        "    t = file.read().strip()\n",
        "dna_seq = Seq(t)\n",
        "rna_seq = dna_seq.transcribe()\n",
        "print(rna_seq)\n"
      ],
      "metadata": {
        "colab": {
          "base_uri": "https://localhost:8080/"
        },
        "id": "zt3dv8BeRz8x",
        "outputId": "a6134b6c-ac3a-4f41-9766-e711b2539a79"
      },
      "execution_count": 15,
      "outputs": [
        {
          "output_type": "stream",
          "name": "stdout",
          "text": [
            "GGCCCUCUGGUCGCAACAUCAAUCAAAGAUGACGCUAUCAGGAGCACAGUGCUGCUGGCAGGUGGCCGUACGCCGCCCCUUACUCGAGUCAUUUAACUCCGCCUCUACCAACAUUGCUACGCAAAGACCUCCCAUAUGAGAAGGGCGAUCCUCGCGGAGUUCAAUUGCUCGUGUAUCGCAGCGUAGGAUGCACUUAUUAUGGUUAGGUUGCACAGACAGUUCAGCCCCCAGGCCUCUACGAGCCCCUAAUACCCUUGGUAGGGCGAGCUUACAUGAAACGAUAAUGACAUCUCCGUUUCUAAAGAUAUCGCGCGGCGUCCUUUAUUAGAAUUUGUGUGUUCUGAGACCUCGUGGGGUCUACUAAUCCCCACAUGGAGUAGCUUGCUGCCCACGCCACGUCCCGCGAUUAAUAAGUGCACAAUCAUUUCGGCGGGUCAAACGGCUAACAAGUGAUCCGGCCGCCGGAUCUUCUGCGUUCAUUAACUACGUUAGCAAUCUGGCGUUCUGUCUACAAUACCGACUGUAGUAGCUUCUGCAACCCUAACUUGGUGCAAUGACAUACGUCACGCUAAACAGUGAUCCCGCACUGGAAUCUCAAUAUCCCCCAGCAUGCGAGGCAAGAGGAAGAGCGCCCGUGUGACAGUUUAGUCUGCCAAAUUAUAAUACUUGAUGCGACCGCCGUGGAUUUAAUCGGUGACCUCCCUCCUUUGUGGUUAUUAUGUACUGGAGAGUUGCCAUAUGUCCCGUGGGGAGUAAGCAACCCCUAGGGCUGCCCGGCGUGAAAAGGGGGGUGUAUGAGAGCUUCAUUUGUGCCAGCGAGUAUACAAGUGACAAGCGUUAUUGAUUAUCGGUACACAACUUCGGCUUAUUACCUCCAAAUAUUUGUGUCUUUGAUCGGCUUUUACAUGGGAGGGC\n"
          ]
        }
      ]
    },
    {
      "cell_type": "markdown",
      "source": [
        "#P21.2"
      ],
      "metadata": {
        "id": "hG05IhfzScj-"
      }
    },
    {
      "cell_type": "code",
      "source": [
        "s = \"AUGGCCAUGGCGCCCAGAACUGAGAUCAAUAGUACCCGUAUUAACGGGUGA\"\n",
        "rna_seq = Seq(s)\n",
        "protein_seq = rna_seq.translate(to_stop=True)\n",
        "\n",
        "print(protein_seq)"
      ],
      "metadata": {
        "colab": {
          "base_uri": "https://localhost:8080/"
        },
        "id": "K_5Gf_4ESgZU",
        "outputId": "7695bbf7-a632-4099-cebf-00111fdb318a"
      },
      "execution_count": 16,
      "outputs": [
        {
          "output_type": "stream",
          "name": "stdout",
          "text": [
            "MAMAPRTEINSTRING\n"
          ]
        }
      ]
    },
    {
      "cell_type": "code",
      "source": [
        "with open(\"rosalind_prot.txt\", \"r\") as file:\n",
        "    s = file.read().strip()   # remove any whitespace or newlines\n",
        "\n",
        "rna_seq = Seq(s)\n",
        "protein_seq = rna_seq.translate(to_stop=True)\n",
        "print(protein_seq)\n",
        "\n"
      ],
      "metadata": {
        "colab": {
          "base_uri": "https://localhost:8080/"
        },
        "id": "nfQbdE9nTGHp",
        "outputId": "8b21b048-3589-463a-c9ea-aa02226d44bc"
      },
      "execution_count": 17,
      "outputs": [
        {
          "output_type": "stream",
          "name": "stdout",
          "text": [
            "MVNGVAALIGVVLKFGLPWRGPNALFWLWSSKEPGWFRCHGVLGTHRPHKTPCSHTTQRGPGSADTTDGLSPSQCAYYTSLNEGAENRGGGHQWGTWNGDSGLQHFPCYNVLDQGMRGASPTTDNGYFPRPQVPYWRPMYKTYRIAKGCKIDVDKSPPTRFNLVHQALGQYSSRQKMTRSYTIVPHYYPGFVRTNRYGARRTYGLETVSICHTARSLRQTSVRESPQHCLSQSMVCHVGATGPNDLHQATVESGLIRIWSFTTEGVPYLIRDLCVDYREGNHWEFFRRTPYVYCSLEKLSPSPSLLFLPAHVKNASGLLHCRVSPPSPYCADSTSAAVTFSMTMTTGLYPVIARHLSKIVVVAECSRTSRARAYVGTIIWSFPIVFITSRMSTMSGRVHHYDNSCLFSAHEKQLKLPQLNVPHVSGKGSTIPGRRIQVMLRRGTSAPYPSTARVATGFRFPSYTCTAIGQAGGLLDLANGLSVVEHGPQYLAQLEPSLYWPQYTADIKHLAFLVQRIFCSGVESPPDLYNWYSRRAYTFADFAQNSIGNIPDSLVTKYVKQRKLIGYVNRSVIGKVILVYSRTVFQFIDRTFFHARGVSMVLPKAARLILHIRPWSTALCLSRVVSWNSAGFLSPHGRSHSSRAPKLTTKRRLTPPRPAVDSVLTSIPGNHVVSHSEHSNSLESNRESKMVGPPSNKSAIHRIERRSGQKETRKQYQELILILIKEDVTEASSRCEEKYILAECHHNTSKQRSYGTGAYLAAARDIRNSATTSQVTVSISPGRVSAAAKTCLKNRVLNRRELASSFGSPRDNDDCDHGVPLARRSVEAGLMRSRHLYPASHLTTRLPEAHDALRHSRKTKMEAPSTKLKKFMTSLQTSNVDLREAETRLLEAKNRTIYVSVIYAQTGSSENADSGGYEVKVIHFKWSYAPGARQQETYVLQRFAFQDARNDLYWARLYLTARVRLPRMFFRLRRNDLPYPLHLMPTDNSNIMSQITVPKNCLEFSYQQGKVGPLRRGMQDRGQLSHSSSRIARYSSATLPSLLRRAPRWRVQIRPQCPTAANVGTSGYPLPSCILRFFPAVFNVSADDRVTDPLEEYGALEPRGQRLTKRGHKSVPAIMLEHQSEVYCGYMKPADWHACNRRRGYLTFLVLHCVSRRAIVMLNRRRFGVAPPQLFALGPSGYSLLSFLQLRSPMLYQWAQEVTALGVTRYQRSMSFVRGKKRHANNGVSRSPQPLYFQITGLSRRFPHLCPVQRTAILYAPHSSAECHIKSSTHRSRSKIPPVGWCSAMRAKHRGIAIWPPLGRRSCKANHIPVLRHGMAGLGAQKYHKHSSSQLGSDYRSFLIPATCTFKLHKERRRFISAFRYPVEFGRRRGSKPGTLQTETSKAGQCIRRPVGPLVKNKKSNALVEHGLNYTRVLIESRRKSVAHNVGDQAERARLPDMARHNFCKRRQLPVQAIASGPITRSLTDAPPREDSPRLTLAKAFRLRCVECRARNCQYNNVTPGRIPLVSTHRSDNSPGPVKSSARGLRKRAPASSPHNIIPGAQPADSMKWLFYILNREVGTMRRTNSRTWQGYLKQSLVSKVNKHPHFGTYQMRTINHKTTQSYWSVGAAVTSRYVNDKAKRRNGLLFSRIMECEVSRLVDGVLQEDQRWDPITVAYRTCARSGRFGKAGHFRSATAIGALCSDGLTRDRRYDYADVLYLALVLLAEFRKPYFNWVDGEASIHLTSRAGHDDHSATSGNLEVLAYSTTVSECDDTPDANKPGADFRMARLRLLLCLRLLYLRPNGDHVAETRPRLAVMFRPEEVRSTTTGFPQSTSGVYIRVAGSACGRSLATIWSFVNGTVTMRPARVRVGFKSWMPLISMARRIQIDKARWEWPDKAMYDGREHAETLDSNQLALIFASGVEPCATTGSFSPWHIPLNASRCVCGDIKRPYPLHVNFPHLVLPDTAHLFPSWFPNRTASLAHMVAQSQGHSFNQIDTNVIYRWGAKRPLFLNVASTKANLIDQTFSIYDTISLDASGQWKRPLSGMLDDYNLAPRPWSITQTNLTRPRTNRRSKVVLSTDIRTWRPSPLGPYCMHTMAQQDRHDAHWEFSHGSCKMLGHNAGAFFSRLHSKPANRGVPARYRAEVSDTPVQERNLVISVTICPCILNLPKVCRSYRCIVRFVLDKTRRCSSAHLTGLVRVVTSVLEKQFLRSKWTADSYCYQRKQPAHEPFRRNAAVLMSSDGGFSPTSHAILSRFRVDNYKQLTTDINRVHGSSDTSTSISSTSSNVCRFPEQHFLHSKARYEPAKFAIISVTVVQYASNHQRHDHLINLTRRRITWNRVFLGQQKSCPMKLCTSFYNGARSANGSGIVADRSGYLDQYDIRRSRTPHGTSERCVIQSLAHTPFRDYQFTLDCPIVTRYYLRKLRSQHHIETAVAISMHATYRRTFHAKKDDTTHPRARVATRKRFLYGIIVHRFRTRRKDRRPIGQYLVRSKNSKGSYLVVPLYDHLAGCCDIRHLVRYICTERPPNVCETDQAKLMHSKRCHSSSLVHVVHLDLTRTSAMPHVPKLIPISLYAILRYTFVKHWYATRTLSDSSVIKRVAHVRVVSPLEARDNQYLRILGRGLLLQFPGTYHGCPFVCQLLGRIILLTVFLVCSASRKSRRPTYKHGIVINLLQATPILPLCVACRLRIYSISCRIPRSRDRPMLASNGIGHIWTWSPYTELMDHHSVPGMSTQCNKVVAHFDSRPDRDTLICYAAGHDPIFPVKPHGPTIWLSFLGNPVKMLASPLVILDASTDDRDLRLRLTSITTNSLRGTRAPKAAINSTNRVNVKIDPHFDPTRTGVKLKISPYYKHTRTYCLQPYPAISSCKRVISKSNAPSQKLSAPQSGNINEIQQSERGEEAPRTDVICSLAIRSWSIYKYANVSSHDGPLLSTAKPRPGYNSYNVYQKVLTCASCSAGVGACVPLKRWLRHRSFFTRLVLNAYSPLFGVPCAVSLRTVKSTSGNVGSGHLVSDLRNGEASPNSVCRIIYWQTGGMLERRAAPLIGVGLRPVASPFDDSVVRNSRCTQNDDSAEKSGVQCTFSTAAQWVSVLNIRGTSGNRPKLLTVRSPNVLTRTRRRFLTSSVGWGHRRFKAKCLVVSRESRCLRWASRHDLSLIVLLFAERRSAGLSDGIGRGFKIQPASRIPIYLQGQNCTTK\n"
          ]
        }
      ]
    },
    {
      "cell_type": "markdown",
      "source": [
        "#P22.1"
      ],
      "metadata": {
        "id": "nnJVwyFcTuhl"
      }
    },
    {
      "cell_type": "code",
      "source": [
        "fasta_content = \"\"\">Rosalind_6404\n",
        "CCTGCGGAAGATCGGCACTAGAATAGCCAGAACCGTTTCTCTGAGGCTTCCGGCCTTCCC\n",
        "TCCCACTAATAATTCTGAGG\n",
        ">Rosalind_5959\n",
        "CCATCGGTAGCGCATCCTTAGTCCAATTAAGTCCCTATCCAGGCGCTCCGCCGAAGGTCT\n",
        "ATATCCATTTGTCAGCAGACACGC\n",
        ">Rosalind_0808\n",
        "CCACCCTCGTGGTATGGCTAGGCATTCAGGAACCGGAGAACGCTTCAGACCAGCCCGGAC\n",
        "TGGGAACCTGCGGGCAGTAGGTGGAAT\n",
        "\"\"\"\n",
        "\n",
        "# Write to a text file\n",
        "with open(\"practice_9.txt\", \"w\") as f:\n",
        "    f.write(fasta_content)\n"
      ],
      "metadata": {
        "id": "zQtR9PWOUNt_"
      },
      "execution_count": 18,
      "outputs": []
    },
    {
      "cell_type": "code",
      "source": [
        "from Bio.SeqIO import parse\n",
        "\n",
        "for seq_record in parse(\"practice_9.txt\",\"fasta\"):\n",
        "  print (seq_record.id)\n",
        "  print (seq_record.seq)\n",
        "  print (len(seq_record.seq))\n",
        "  print (seq_record)"
      ],
      "metadata": {
        "colab": {
          "base_uri": "https://localhost:8080/"
        },
        "id": "6fw4XX0mT3ju",
        "outputId": "375bad95-311a-4690-fe14-b22d22057262"
      },
      "execution_count": 20,
      "outputs": [
        {
          "output_type": "stream",
          "name": "stdout",
          "text": [
            "Rosalind_6404\n",
            "CCTGCGGAAGATCGGCACTAGAATAGCCAGAACCGTTTCTCTGAGGCTTCCGGCCTTCCCTCCCACTAATAATTCTGAGG\n",
            "80\n",
            "ID: Rosalind_6404\n",
            "Name: Rosalind_6404\n",
            "Description: Rosalind_6404\n",
            "Number of features: 0\n",
            "Seq('CCTGCGGAAGATCGGCACTAGAATAGCCAGAACCGTTTCTCTGAGGCTTCCGGC...AGG')\n",
            "Rosalind_5959\n",
            "CCATCGGTAGCGCATCCTTAGTCCAATTAAGTCCCTATCCAGGCGCTCCGCCGAAGGTCTATATCCATTTGTCAGCAGACACGC\n",
            "84\n",
            "ID: Rosalind_5959\n",
            "Name: Rosalind_5959\n",
            "Description: Rosalind_5959\n",
            "Number of features: 0\n",
            "Seq('CCATCGGTAGCGCATCCTTAGTCCAATTAAGTCCCTATCCAGGCGCTCCGCCGA...CGC')\n",
            "Rosalind_0808\n",
            "CCACCCTCGTGGTATGGCTAGGCATTCAGGAACCGGAGAACGCTTCAGACCAGCCCGGACTGGGAACCTGCGGGCAGTAGGTGGAAT\n",
            "87\n",
            "ID: Rosalind_0808\n",
            "Name: Rosalind_0808\n",
            "Description: Rosalind_0808\n",
            "Number of features: 0\n",
            "Seq('CCACCCTCGTGGTATGGCTAGGCATTCAGGAACCGGAGAACGCTTCAGACCAGC...AAT')\n"
          ]
        }
      ]
    },
    {
      "cell_type": "markdown",
      "source": [
        "#P23.1"
      ],
      "metadata": {
        "id": "qc2-dwWwU3Jk"
      }
    },
    {
      "cell_type": "code",
      "source": [
        "from Bio import SeqIO\n",
        "from Bio.SeqUtils import gc_fraction\n",
        "\n",
        "for record in SeqIO.parse(\"practice_9.txt\", \"fasta\"):\n",
        "    sequence_id = record.id\n",
        "    sequence = record.seq\n",
        "    gc_fraction_content = gc_fraction(sequence)\n",
        "    print(f\"{sequence_id}: {gc_fraction_content:.6f}%\")\n"
      ],
      "metadata": {
        "colab": {
          "base_uri": "https://localhost:8080/"
        },
        "id": "Q3VLDynkU0WI",
        "outputId": "cda89704-f643-4fb5-e3e5-cc6ace2f4cab"
      },
      "execution_count": 23,
      "outputs": [
        {
          "output_type": "stream",
          "name": "stdout",
          "text": [
            "Rosalind_6404: 0.537500%\n",
            "Rosalind_5959: 0.535714%\n",
            "Rosalind_0808: 0.609195%\n"
          ]
        }
      ]
    },
    {
      "cell_type": "markdown",
      "source": [
        "#P23.2"
      ],
      "metadata": {
        "id": "l1Db8QjTZEOO"
      }
    },
    {
      "cell_type": "markdown",
      "source": [
        "![image.png](data:image/png;base64,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)"
      ],
      "metadata": {
        "id": "lgVgn_gaY_Jy"
      }
    },
    {
      "cell_type": "code",
      "source": [
        "from Bio import SeqIO\n",
        "from Bio.SeqUtils import gc_fraction\n",
        "\n",
        "\n",
        "max_gc = 0 #lets start with 0\n",
        "max_id = \"\" #start with empty\n",
        "\n",
        "for record in SeqIO.parse(\"rosalind_gc.txt\", \"fasta\"):\n",
        "    current_gc = gc_fraction(record.seq)\n",
        "    if current_gc > max_gc:\n",
        "        max_gc = current_gc\n",
        "        max_id = record.id\n",
        "\n",
        "print(max_id)\n",
        "print(f\"{max_gc:6f}\") # 6 decimal places\n"
      ],
      "metadata": {
        "colab": {
          "base_uri": "https://localhost:8080/"
        },
        "id": "EU0gY9-qWBuQ",
        "outputId": "0dc5d993-6064-4954-9a91-263803b0b837"
      },
      "execution_count": 31,
      "outputs": [
        {
          "output_type": "stream",
          "name": "stdout",
          "text": [
            "Rosalind_3550\n",
            "0.530811\n"
          ]
        }
      ]
    },
    {
      "cell_type": "code",
      "source": [
        "from Bio import SeqIO\n",
        "from Bio.SeqUtils import gc_fraction\n",
        "\n",
        "max_gc = 0\n",
        "max_id = \"\"\n",
        "\n",
        "for record in SeqIO.parse(\"rosalind_gc (2).txt\", \"fasta\"):\n",
        "    current_gc = gc_fraction(record.seq)\n",
        "    if current_gc > max_gc:\n",
        "        max_gc = current_gc\n",
        "        max_id = record.id\n",
        "\n",
        "print(max_id)\n",
        "print(f\"{max_gc * 100:.6f}%\") #FORGOT THE PERCENT SIGN"
      ],
      "metadata": {
        "colab": {
          "base_uri": "https://localhost:8080/"
        },
        "id": "MbauacNaabFr",
        "outputId": "7bb7c50d-5b30-453d-8831-6d1eeb7ad383"
      },
      "execution_count": 33,
      "outputs": [
        {
          "output_type": "stream",
          "name": "stdout",
          "text": [
            "Rosalind_4792\n",
            "52.684145%\n"
          ]
        }
      ]
    }
  ]
}