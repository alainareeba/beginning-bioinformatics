{
  "nbformat": 4,
  "nbformat_minor": 0,
  "metadata": {
    "colab": {
      "provenance": []
    },
    "kernelspec": {
      "name": "python3",
      "display_name": "Python 3"
    },
    "language_info": {
      "name": "python"
    }
  },
  "cells": [
    {
      "cell_type": "code",
      "execution_count": null,
      "metadata": {
        "colab": {
          "base_uri": "https://localhost:8080/"
        },
        "id": "q7tzuCVcFdTj",
        "outputId": "c43f8371-e12e-43c3-98f9-5067fb79c81e"
      },
      "outputs": [
        {
          "output_type": "stream",
          "name": "stdout",
          "text": [
            "Hello World!\n"
          ]
        }
      ],
      "source": [
        "print (\"Hello World!\")"
      ]
    },
    {
      "cell_type": "code",
      "source": [
        "x=5\n",
        "print(x)"
      ],
      "metadata": {
        "colab": {
          "base_uri": "https://localhost:8080/"
        },
        "id": "XDmiiCaVGJLi",
        "outputId": "1932faf2-d4ab-4284-c33a-1ded049d9feb"
      },
      "execution_count": null,
      "outputs": [
        {
          "output_type": "stream",
          "name": "stdout",
          "text": [
            "5\n"
          ]
        }
      ]
    },
    {
      "cell_type": "markdown",
      "metadata": {
        "id": "cd7dc669"
      },
      "source": [
        "In Python, the assignment operator (`=`) is used to assign values to variables. Here are three examples:\n",
        "\n",
        "1.  **Assigning a numerical value:**"
      ]
    },
    {
      "cell_type": "code",
      "metadata": {
        "colab": {
          "base_uri": "https://localhost:8080/"
        },
        "id": "dabb4edc",
        "outputId": "7dad583a-b946-4980-bdc1-3dda9f9da6ef"
      },
      "source": [
        "    # Assign the string \"Alice\" to the variable 'name'\n",
        "    name = \"Alice\"\n",
        "    print(name)"
      ],
      "execution_count": null,
      "outputs": [
        {
          "output_type": "stream",
          "name": "stdout",
          "text": [
            "Alice\n"
          ]
        }
      ]
    },
    {
      "cell_type": "code",
      "metadata": {
        "colab": {
          "base_uri": "https://localhost:8080/"
        },
        "id": "614f8b12",
        "outputId": "9fd26eca-86da-4ff9-fc73-9e798ca722db"
      },
      "source": [
        "    # Assign the result of the addition (5 + 3) to the variable 'sum_result'\n",
        "    sum_result = 5 + 3\n",
        "    print(sum_result)"
      ],
      "execution_count": null,
      "outputs": [
        {
          "output_type": "stream",
          "name": "stdout",
          "text": [
            "8\n"
          ]
        }
      ]
    },
    {
      "cell_type": "code",
      "metadata": {
        "colab": {
          "base_uri": "https://localhost:8080/"
        },
        "id": "1e860624",
        "outputId": "96dd8c30-2716-4d1c-d7ec-a2715acc194a"
      },
      "source": [
        "# Assign the boolean value True to the variable 'is_active'\n",
        "is_active = True\n",
        "print(is_active)"
      ],
      "execution_count": null,
      "outputs": [
        {
          "output_type": "stream",
          "name": "stdout",
          "text": [
            "True\n"
          ]
        }
      ]
    },
    {
      "cell_type": "code",
      "source": [
        "a=3\n",
        "b=5\n",
        "c=a**2+b**2\n",
        "c"
      ],
      "metadata": {
        "colab": {
          "base_uri": "https://localhost:8080/"
        },
        "id": "yuxHQrhYHtE9",
        "outputId": "86c6fc4b-2e18-41e4-ce66-fbaa36c46854"
      },
      "execution_count": null,
      "outputs": [
        {
          "output_type": "execute_result",
          "data": {
            "text/plain": [
              "34"
            ]
          },
          "metadata": {},
          "execution_count": 9
        }
      ]
    },
    {
      "cell_type": "markdown",
      "source": [
        "Download the dataset and put the dataset in the code, then paste the right answer. Upload your code as well"
      ],
      "metadata": {
        "id": "cx5F3BP-IiPz"
      }
    },
    {
      "cell_type": "code",
      "source": [
        "## Rosalind Question #1\n",
        "a=934\n",
        "b=814\n",
        "c=a**2+b**2\n",
        "print(c)"
      ],
      "metadata": {
        "id": "TCkDKX4MIh6u",
        "colab": {
          "base_uri": "https://localhost:8080/"
        },
        "outputId": "c4e087d7-5797-48e3-af6c-693fec0fa07a"
      },
      "execution_count": null,
      "outputs": [
        {
          "output_type": "stream",
          "name": "stdout",
          "text": [
            "1534952\n"
          ]
        }
      ]
    },
    {
      "cell_type": "markdown",
      "source": [
        "#P6.1"
      ],
      "metadata": {
        "id": "J_4OVtEkuSwZ"
      }
    },
    {
      "cell_type": "code",
      "source": [
        "# Input usage\n",
        "name = input(\"Enter your name: \")\n",
        "print(\"Hello, \" + name)"
      ],
      "metadata": {
        "colab": {
          "base_uri": "https://localhost:8080/"
        },
        "id": "bAA-cx_Vt9S3",
        "outputId": "abb4da43-515e-459f-9d63-fefa85af04b5"
      },
      "execution_count": null,
      "outputs": [
        {
          "output_type": "stream",
          "name": "stdout",
          "text": [
            "Enter your name: Alain\n",
            "Hello, Alain\n"
          ]
        }
      ]
    },
    {
      "cell_type": "markdown",
      "source": [
        "#P6.2"
      ],
      "metadata": {
        "id": "gLdidPlIuYz3"
      }
    },
    {
      "cell_type": "code",
      "source": [
        "#Input usage for Rosalind #1\n",
        "a= input(\"What is the value of a? \")\n",
        "b= input(\"What is the value of b? \")\n",
        "c=int(a)**2+int(b)**2 # must put int in front that whatever input is turned into a int\n",
        "print(c)"
      ],
      "metadata": {
        "colab": {
          "base_uri": "https://localhost:8080/"
        },
        "id": "Db7SBP7quch4",
        "outputId": "bd860479-0294-47e5-cfa1-f0fa9b824ad8"
      },
      "execution_count": null,
      "outputs": [
        {
          "output_type": "stream",
          "name": "stdout",
          "text": [
            "What is the value of a? 834\n",
            "What is the value of b? 254\n",
            "760072\n"
          ]
        }
      ]
    },
    {
      "cell_type": "markdown",
      "source": [
        "#P7.1"
      ],
      "metadata": {
        "id": "xHxaIZ5-vquN"
      }
    },
    {
      "cell_type": "code",
      "source": [
        "my_list = [\"Hello\", \"World\", \"Charles Darwin\"]\n",
        "print(my_list[1])"
      ],
      "metadata": {
        "colab": {
          "base_uri": "https://localhost:8080/"
        },
        "id": "nu13nXlDvs1z",
        "outputId": "3eb89abc-41dd-41fb-96bb-f77eaf18cbc6"
      },
      "execution_count": null,
      "outputs": [
        {
          "output_type": "stream",
          "name": "stdout",
          "text": [
            "World\n"
          ]
        }
      ]
    },
    {
      "cell_type": "markdown",
      "source": [
        "#P7.2"
      ],
      "metadata": {
        "id": "3WmT5HcZ_o-k"
      }
    },
    {
      "cell_type": "code",
      "source": [
        "my_list[2]=\"Alfred R. Wallace\"\n",
        "print(my_list)"
      ],
      "metadata": {
        "colab": {
          "base_uri": "https://localhost:8080/"
        },
        "id": "cc-AfySV_rZs",
        "outputId": "51429412-ea6e-4f0c-8a04-3e5a57e51426"
      },
      "execution_count": null,
      "outputs": [
        {
          "output_type": "stream",
          "name": "stdout",
          "text": [
            "['Hello', 'World', 'Alfred R. Wallace']\n"
          ]
        }
      ]
    },
    {
      "cell_type": "markdown",
      "source": [
        "#P7.3"
      ],
      "metadata": {
        "id": "Jd1uraK4_6u8"
      }
    },
    {
      "cell_type": "code",
      "source": [
        "my_list.append(\"Charles Darwin\")\n",
        "print(my_list)"
      ],
      "metadata": {
        "colab": {
          "base_uri": "https://localhost:8080/"
        },
        "id": "aUenNCII_9Zd",
        "outputId": "cdd73157-7dd5-4002-e4a4-e92297b9a629"
      },
      "execution_count": null,
      "outputs": [
        {
          "output_type": "stream",
          "name": "stdout",
          "text": [
            "['Hello', 'World', 'Alfred R. Wallace', 'Charles Darwin']\n"
          ]
        }
      ]
    },
    {
      "cell_type": "markdown",
      "source": [
        "#P7.4"
      ],
      "metadata": {
        "id": "s-X0b8GNAF7-"
      }
    },
    {
      "cell_type": "code",
      "source": [],
      "metadata": {
        "colab": {
          "base_uri": "https://localhost:8080/"
        },
        "id": "OtNftMTtBuF-",
        "outputId": "42d5ba1b-1bcc-406e-af27-c4f934e13c05"
      },
      "execution_count": null,
      "outputs": [
        {
          "output_type": "stream",
          "name": "stdout",
          "text": [
            "['Hello', 'Rosalind Franklin', 'World', 'Alfred R. Wallace', 'Charles Darwin']\n"
          ]
        }
      ]
    },
    {
      "cell_type": "markdown",
      "source": [
        "#P8.1"
      ],
      "metadata": {
        "id": "Jp42YhriAo1Z"
      }
    },
    {
      "cell_type": "code",
      "source": [
        "print (my_list[2:4]) #endpoints are non-inclusive"
      ],
      "metadata": {
        "colab": {
          "base_uri": "https://localhost:8080/"
        },
        "id": "ivc_qVO5BCaP",
        "outputId": "3dc53165-97dc-4ed1-8b34-c1b092872094"
      },
      "execution_count": null,
      "outputs": [
        {
          "output_type": "stream",
          "name": "stdout",
          "text": [
            "['World', 'Alfred R. Wallace']\n"
          ]
        }
      ]
    },
    {
      "cell_type": "code",
      "source": [
        "my_string=\"HelloWorldCharlesDarwinAlfred R. Walace\"\n",
        "print(my_string[0:5], my_string[5:10])"
      ],
      "metadata": {
        "colab": {
          "base_uri": "https://localhost:8080/"
        },
        "id": "WTPxOj73CaIP",
        "outputId": "a5c8b4ed-a503-46df-b91e-4da5d351c171"
      },
      "execution_count": null,
      "outputs": [
        {
          "output_type": "stream",
          "name": "stdout",
          "text": [
            "Hello World\n"
          ]
        }
      ]
    },
    {
      "cell_type": "markdown",
      "source": [
        "#P8.2"
      ],
      "metadata": {
        "id": "zr-GIDh2LirR"
      }
    },
    {
      "cell_type": "code",
      "source": [
        "print(my_string[33:39], my_string[5:10])"
      ],
      "metadata": {
        "colab": {
          "base_uri": "https://localhost:8080/"
        },
        "id": "6gmmmj7AEFz7",
        "outputId": "440388bc-d4a2-44fc-8e7c-710a8c13222c"
      },
      "execution_count": null,
      "outputs": [
        {
          "output_type": "stream",
          "name": "stdout",
          "text": [
            "Walace World\n"
          ]
        }
      ]
    },
    {
      "cell_type": "markdown",
      "source": [
        "#P8.3: Rosalind Problem #2"
      ],
      "metadata": {
        "id": "F4Uik9FKLuJ5"
      }
    },
    {
      "cell_type": "code",
      "source": [
        "my_string2=\"HumptyDumptysatonawallHumptyDumptyhadagreatfallAlltheKingshorsesandalltheKingsmenCouldntputHumptyDumptyinhisplaceagain.\"\n",
        "\n",
        "print(my_string2[22:28],my_string2[97:103])"
      ],
      "metadata": {
        "colab": {
          "base_uri": "https://localhost:8080/"
        },
        "id": "5UNn-BKHL1cS",
        "outputId": "bc3fa41c-c1fe-4818-f2fc-d35fb26b11c1"
      },
      "execution_count": null,
      "outputs": [
        {
          "output_type": "stream",
          "name": "stdout",
          "text": [
            "Humpty Dumpty\n"
          ]
        }
      ]
    },
    {
      "cell_type": "code",
      "source": [
        "my_string3=\"Pv6RwUIbq2B5555dMHq0MmWsLxRESVJPm84PSEPA3WOEDtLBzQKKHquV9Gqb7UoYlYldSUCiconiaR5AWBFtS0Y8Xumy6YBFBTleptochelisIstdrAl3hAORXijhE7nGIl29l61VxcI5vYfXhrenHlEQqyrytJlQERfBc5DWAqKl7phiZ\"\n",
        "\n",
        "print(my_string3[70:77], my_string3[98:109])"
      ],
      "metadata": {
        "colab": {
          "base_uri": "https://localhost:8080/"
        },
        "id": "9bZFANC7RhGd",
        "outputId": "38919137-c1f4-41c8-8c65-3f200651d9ce"
      },
      "execution_count": null,
      "outputs": [
        {
          "output_type": "stream",
          "name": "stdout",
          "text": [
            "Ciconia leptochelis\n"
          ]
        }
      ]
    },
    {
      "cell_type": "markdown",
      "source": [
        "#P9.1"
      ],
      "metadata": {
        "id": "WAbzvgMNw0NS"
      }
    },
    {
      "cell_type": "code",
      "source": [
        "a=5\n",
        "b=5\n",
        "if a!=b:\n",
        "  print(a-b)\n",
        "else:\n",
        "  print(a+b)"
      ],
      "metadata": {
        "colab": {
          "base_uri": "https://localhost:8080/"
        },
        "id": "QzGUxyB2xUFk",
        "outputId": "8d70ce54-bbab-4848-e5fe-5a4be5e965e5"
      },
      "execution_count": null,
      "outputs": [
        {
          "output_type": "stream",
          "name": "stdout",
          "text": [
            "10\n"
          ]
        }
      ]
    },
    {
      "cell_type": "markdown",
      "source": [
        "#P10.1"
      ],
      "metadata": {
        "id": "6h8Da_M-xsc4"
      }
    },
    {
      "cell_type": "code",
      "source": [
        "a=1\n",
        "while a <= 3:\n",
        "  print(\"Counting!\")\n",
        "  a +=1"
      ],
      "metadata": {
        "colab": {
          "base_uri": "https://localhost:8080/"
        },
        "id": "mun8L0oKxt2P",
        "outputId": "888bbe26-7775-43ca-b9b9-fbc3c59f611d"
      },
      "execution_count": null,
      "outputs": [
        {
          "output_type": "stream",
          "name": "stdout",
          "text": [
            "Counting!\n",
            "Counting!\n",
            "Counting!\n"
          ]
        }
      ]
    },
    {
      "cell_type": "code",
      "source": [
        "a=1\n",
        "while a <= 3:\n",
        "  print(\"Counting!\" * a)\n",
        "  a +=1"
      ],
      "metadata": {
        "colab": {
          "base_uri": "https://localhost:8080/"
        },
        "id": "Ewq0Xn6ryMKD",
        "outputId": "36f7f957-cd12-49ba-c0ec-2a8204c86236"
      },
      "execution_count": null,
      "outputs": [
        {
          "output_type": "stream",
          "name": "stdout",
          "text": [
            "Counting!\n",
            "Counting!Counting!\n",
            "Counting!Counting!Counting!\n"
          ]
        }
      ]
    },
    {
      "cell_type": "markdown",
      "source": [
        "#P11.1"
      ],
      "metadata": {
        "id": "6bC2B5q1ygeC"
      }
    },
    {
      "cell_type": "code",
      "source": [
        "names = [\"Alice\",\"Bob\",\"Charley\"]\n",
        "for name in names:\n",
        "  print(\"Hello\", name)"
      ],
      "metadata": {
        "colab": {
          "base_uri": "https://localhost:8080/"
        },
        "id": "M3y33DgpyiRL",
        "outputId": "200622f6-6390-4a40-fc5c-46e8098a6bcc"
      },
      "execution_count": null,
      "outputs": [
        {
          "output_type": "stream",
          "name": "stdout",
          "text": [
            "Hello Alice\n",
            "Hello Bob\n",
            "Hello Charley\n"
          ]
        }
      ]
    },
    {
      "cell_type": "markdown",
      "source": [
        "#P12.1"
      ],
      "metadata": {
        "id": "M4o-BjNpy5i-"
      }
    },
    {
      "cell_type": "code",
      "source": [
        "iterations = 10\n",
        "for number in range(iterations):\n",
        "  print(number)"
      ],
      "metadata": {
        "colab": {
          "base_uri": "https://localhost:8080/"
        },
        "id": "DhW06mQ0yukn",
        "outputId": "af895b2f-5f30-4058-f399-b3ef7b245a4a"
      },
      "execution_count": null,
      "outputs": [
        {
          "output_type": "stream",
          "name": "stdout",
          "text": [
            "0\n",
            "1\n",
            "2\n",
            "3\n",
            "4\n",
            "5\n",
            "6\n",
            "7\n",
            "8\n",
            "9\n"
          ]
        }
      ]
    },
    {
      "cell_type": "markdown",
      "source": [
        "#P12.2"
      ],
      "metadata": {
        "id": "ZCIk16Nhz1-r"
      }
    },
    {
      "cell_type": "code",
      "source": [
        "for number in range(9, 28, 3): #starts at 9, ends at 27, hops by 3\n",
        "    print(number)"
      ],
      "metadata": {
        "colab": {
          "base_uri": "https://localhost:8080/"
        },
        "id": "whZECnOuz3vZ",
        "outputId": "70e04cd8-765a-4076-caa5-76294016ee79"
      },
      "execution_count": null,
      "outputs": [
        {
          "output_type": "stream",
          "name": "stdout",
          "text": [
            "9\n",
            "12\n",
            "15\n",
            "18\n",
            "21\n",
            "24\n",
            "27\n"
          ]
        }
      ]
    },
    {
      "cell_type": "markdown",
      "source": [
        "#P12.3 Rosalind Problem #3\n",
        "\n",
        "\n"
      ],
      "metadata": {
        "id": "BMDhf874zHNM"
      }
    },
    {
      "cell_type": "code",
      "source": [
        "a = 100\n",
        "b = 200\n",
        "\n",
        "total = sum(number for number in range(a, b + 1) if number % 2 == 1)\n",
        "        # sum = adding them up\n",
        "        # range(a,b+1)= makes sure it's including the actual numbers\n",
        "        # not the one before it\n",
        "        # used the hint to make sure its odd\n",
        "print(total)"
      ],
      "metadata": {
        "colab": {
          "base_uri": "https://localhost:8080/"
        },
        "id": "WIOWOrT61sSo",
        "outputId": "cfa74531-d6ed-43e6-c8fc-0ca2a29c291c"
      },
      "execution_count": null,
      "outputs": [
        {
          "output_type": "stream",
          "name": "stdout",
          "text": [
            "7500\n"
          ]
        }
      ]
    },
    {
      "cell_type": "code",
      "source": [
        "a=4782\n",
        "b=9578\n",
        "total = sum(number for number in range(a, b + 1) if number % 2 == 1)\n",
        "print(total)"
      ],
      "metadata": {
        "colab": {
          "base_uri": "https://localhost:8080/"
        },
        "id": "BoP29FHK23yO",
        "outputId": "824002f7-3486-4c55-f997-983135785297"
      },
      "execution_count": null,
      "outputs": [
        {
          "output_type": "stream",
          "name": "stdout",
          "text": [
            "17217640\n"
          ]
        }
      ]
    },
    {
      "cell_type": "markdown",
      "source": [
        "#P13.2"
      ],
      "metadata": {
        "id": "4LfzO9zXamou"
      }
    },
    {
      "cell_type": "code",
      "source": [
        "with open(\"rosalind_ini5 (2).txt\") as data:\n",
        "  print(data.readline())\n"
      ],
      "metadata": {
        "id": "DNqYKRoRXIIj",
        "colab": {
          "base_uri": "https://localhost:8080/"
        },
        "outputId": "a9bf8d95-bd36-46da-861d-a626d919e1e1"
      },
      "execution_count": 1,
      "outputs": [
        {
          "output_type": "stream",
          "name": "stdout",
          "text": [
            "`Twas brillig, and the slithy toves\n",
            "\n"
          ]
        }
      ]
    },
    {
      "cell_type": "markdown",
      "source": [
        "#P15.2"
      ],
      "metadata": {
        "id": "GDKNY2uh7Lb8"
      }
    },
    {
      "cell_type": "code",
      "source": [
        "with open(\"rosalind_ini5 (2).txt\") as input, open(\"output.txt\", \"w\") as output:\n",
        "    for i, line in enumerate(input, start=1):\n",
        "        if i % 2 == 0:\n",
        "            output.write(line)   # write to output file\n",
        "            print(line, end=\"\")   # print here so we can see"
      ],
      "metadata": {
        "colab": {
          "base_uri": "https://localhost:8080/"
        },
        "id": "FsLGfFVrUDAH",
        "outputId": "07854bcd-b5a2-44df-b3ae-eb7a29143785"
      },
      "execution_count": null,
      "outputs": [
        {
          "output_type": "stream",
          "name": "stdout",
          "text": [
            "Some things in life are bad, they can really make you mad\n",
            "Other things just make you swear and curse\n",
            "When you're chewing on life's gristle, don't grumble give a whistle\n",
            "This will help things turn out for the best\n",
            "Always look on the bright side of life\n",
            "Always look on the right side of life\n",
            "If life seems jolly rotten, there's something you've forgotten\n",
            "And that's to laugh and smile and dance and sing\n",
            "When you're feeling in the dumps, don't be silly, chumps\n",
            "Just purse your lips and whistle, that's the thing\n",
            "So, always look on the bright side of death\n",
            "Just before you draw your terminal breath\n",
            "Life's a counterfeit and when you look at it\n",
            "Life's a laugh and death's the joke, it's true\n",
            "You see, it's all a show, keep them laughing as you go\n",
            "Just remember the last laugh is on you\n",
            "Always look on the bright side of life\n",
            "And always look on the right side of life\n",
            "Always look on the bright side of life\n",
            "And always look on the right side of life\n"
          ]
        }
      ]
    },
    {
      "cell_type": "markdown",
      "source": [
        "#P18"
      ],
      "metadata": {
        "id": "FhHP-djT6Csa"
      }
    },
    {
      "cell_type": "code",
      "source": [
        "sequences[\"P.troglodytes\"] = \"ACGTCACTCTCCTA\""
      ],
      "metadata": {
        "id": "RWyygTfv6EOn"
      },
      "execution_count": null,
      "outputs": []
    },
    {
      "cell_type": "markdown",
      "source": [
        "#P18.2"
      ],
      "metadata": {
        "id": "_Lh9p3sh5pGs"
      }
    },
    {
      "cell_type": "code",
      "source": [
        "passage = \"We tried list and we tried dicts also we tried Zen\"\n",
        "words = passage.split(' ')\n",
        "word_dict = {}\n",
        "\n",
        "for word in words:\n",
        "    if word in word_dict:\n",
        "        word_dict[word] += 1\n",
        "    else:\n",
        "        word_dict[word] = 1\n",
        "\n",
        "for key, value in word_dict.items():\n",
        "    print(key, value)\n"
      ],
      "metadata": {
        "colab": {
          "base_uri": "https://localhost:8080/"
        },
        "id": "U931d2KCy2mM",
        "outputId": "bbd9fc91-9f1e-4890-988d-93f2cbec397c"
      },
      "execution_count": 3,
      "outputs": [
        {
          "output_type": "stream",
          "name": "stdout",
          "text": [
            "We 1\n",
            "tried 3\n",
            "list 1\n",
            "and 1\n",
            "we 2\n",
            "dicts 1\n",
            "also 1\n",
            "Zen 1\n"
          ]
        }
      ]
    },
    {
      "cell_type": "markdown",
      "source": [
        "## Pipeline"
      ],
      "metadata": {
        "id": "f1r0FHkm8mNW"
      }
    },
    {
      "cell_type": "markdown",
      "source": [
        "![image.png](data:image/png;base64,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)"
      ],
      "metadata": {
        "id": "3Lklyge88vt5"
      }
    },
    {
      "cell_type": "code",
      "source": [
        "passage = \"When I find myself in times of trouble Mother Mary comes to me Speaking words of wisdom let it be And in my hour of darkness she is standing right in front of me Speaking words of wisdom let it be Let it be let it be let it be let it be Whisper words of wisdom let it be And when the broken hearted people living in the world agree There will be an answer let it be For though they may be parted there is still a chance that they will see There will be an answer let it be Let it be let it be let it be let it be There will be an answer let it be Let it be let it be let it be let it be Whisper words of wisdom let it be Let it be let it be let it be let it be Whisper words of wisdom let it be And when the night is cloudy there is still a light that shines on me Shine until tomorrow let it be I wake up to the sound of music Mother Mary comes to me Speaking words of wisdom let it be Let it be let it be let it be yeah let it be There will be an answer let it be Let it be let it be let it be yeah let it be Whisper words of wisdom let it be\"\n",
        "words = passage.split(' ')\n",
        "word_dict = {}\n",
        "# here I wasn't able to upload the txt file, so I had to manually paste it\n",
        "for word in words:\n",
        "    if word in word_dict:\n",
        "        word_dict[word] += 1 # counting\n",
        "    else:\n",
        "        word_dict[word] = 1\n",
        "\n",
        "for key, value in word_dict.items():\n",
        "    print(key, value)"
      ],
      "metadata": {
        "colab": {
          "base_uri": "https://localhost:8080/"
        },
        "id": "_uw0m9l472sx",
        "outputId": "42788fd6-199b-4ec6-aeaa-f05c25d804d0"
      },
      "execution_count": 4,
      "outputs": [
        {
          "output_type": "stream",
          "name": "stdout",
          "text": [
            "When 1\n",
            "I 2\n",
            "find 1\n",
            "myself 1\n",
            "in 4\n",
            "times 1\n",
            "of 11\n",
            "trouble 1\n",
            "Mother 2\n",
            "Mary 2\n",
            "comes 2\n",
            "to 3\n",
            "me 4\n",
            "Speaking 3\n",
            "words 7\n",
            "wisdom 7\n",
            "let 30\n",
            "it 36\n",
            "be 41\n",
            "And 3\n",
            "my 1\n",
            "hour 1\n",
            "darkness 1\n",
            "she 1\n",
            "is 4\n",
            "standing 1\n",
            "right 1\n",
            "front 1\n",
            "Let 6\n",
            "Whisper 4\n",
            "when 2\n",
            "the 4\n",
            "broken 1\n",
            "hearted 1\n",
            "people 1\n",
            "living 1\n",
            "world 1\n",
            "agree 1\n",
            "There 4\n",
            "will 5\n",
            "an 4\n",
            "answer 4\n",
            "For 1\n",
            "though 1\n",
            "they 2\n",
            "may 1\n",
            "parted 1\n",
            "there 2\n",
            "still 2\n",
            "a 2\n",
            "chance 1\n",
            "that 2\n",
            "see 1\n",
            "night 1\n",
            "cloudy 1\n",
            "light 1\n",
            "shines 1\n",
            "on 1\n",
            "Shine 1\n",
            "until 1\n",
            "tomorrow 1\n",
            "wake 1\n",
            "up 1\n",
            "sound 1\n",
            "music 1\n",
            "yeah 2\n"
          ]
        }
      ]
    },
    {
      "cell_type": "markdown",
      "source": [
        "#P20.1"
      ],
      "metadata": {
        "id": "EpDqAFPh6oEo"
      }
    },
    {
      "cell_type": "code",
      "source": [
        "!pip install biopython"
      ],
      "metadata": {
        "colab": {
          "base_uri": "https://localhost:8080/"
        },
        "id": "9f2esw3S6rgH",
        "outputId": "7a50fe32-ff0f-4da6-dedd-b0461445e2ce"
      },
      "execution_count": 2,
      "outputs": [
        {
          "output_type": "stream",
          "name": "stdout",
          "text": [
            "Collecting biopython\n",
            "  Downloading biopython-1.85-cp312-cp312-manylinux_2_17_x86_64.manylinux2014_x86_64.whl.metadata (13 kB)\n",
            "Requirement already satisfied: numpy in /usr/local/lib/python3.12/dist-packages (from biopython) (2.0.2)\n",
            "Downloading biopython-1.85-cp312-cp312-manylinux_2_17_x86_64.manylinux2014_x86_64.whl (3.3 MB)\n",
            "\u001b[2K   \u001b[90m━━━━━━━━━━━━━━━━━━━━━━━━━━━━━━━━━━━━━━━━\u001b[0m \u001b[32m3.3/3.3 MB\u001b[0m \u001b[31m41.9 MB/s\u001b[0m eta \u001b[36m0:00:00\u001b[0m\n",
            "\u001b[?25hInstalling collected packages: biopython\n",
            "Successfully installed biopython-1.85\n"
          ]
        }
      ]
    },
    {
      "cell_type": "markdown",
      "source": [
        "#P21"
      ],
      "metadata": {
        "id": "aczAcmj3-Bkl"
      }
    },
    {
      "cell_type": "code",
      "source": [
        "from Bio.Seq import Seq\n",
        "my_seq = Seq(\"AGTACACTGGT\")\n",
        "my_seq"
      ],
      "metadata": {
        "colab": {
          "base_uri": "https://localhost:8080/"
        },
        "id": "4b3whqM5-A7c",
        "outputId": "71a22d3a-34eb-44d4-eaae-1f01236f962f"
      },
      "execution_count": 5,
      "outputs": [
        {
          "output_type": "execute_result",
          "data": {
            "text/plain": [
              "Seq('AGTACACTGGT')"
            ]
          },
          "metadata": {},
          "execution_count": 5
        }
      ]
    },
    {
      "cell_type": "code",
      "source": [
        "my_seq.complement()"
      ],
      "metadata": {
        "colab": {
          "base_uri": "https://localhost:8080/"
        },
        "id": "PP8lhEs4AojY",
        "outputId": "c60bfadb-d6ab-447d-a199-ad6452ef5c5b"
      },
      "execution_count": 6,
      "outputs": [
        {
          "output_type": "execute_result",
          "data": {
            "text/plain": [
              "Seq('TCATGTGACCA')"
            ]
          },
          "metadata": {},
          "execution_count": 6
        }
      ]
    },
    {
      "cell_type": "markdown",
      "source": [
        "#P19.1"
      ],
      "metadata": {
        "id": "MK821enN-LOR"
      }
    },
    {
      "cell_type": "markdown",
      "source": [
        "![image.png](data:image/png;base64,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)![image.png]()"
      ],
      "metadata": {
        "id": "wrSDYDfxAr6_"
      }
    },
    {
      "cell_type": "code",
      "source": [
        "#test\n",
        "with open(\"dna.txt\", \"w\") as file:\n",
        "    file.write(\"AGCTTTTCATTCTGACTGCAACGGGCAATATGTCTCTGTGTGGATTAAAAAAAGAGTGTCTGATAGCAGC\")"
      ],
      "metadata": {
        "id": "lBDce5FOCu8L"
      },
      "execution_count": 7,
      "outputs": []
    },
    {
      "cell_type": "code",
      "source": [
        "# test\n",
        "with open(\"dna.txt\", \"r\") as file:\n",
        "    s = file.read().strip()\n",
        "\n",
        "# count nucleotides\n",
        "a_count = s.count(\"A\")\n",
        "c_count = s.count(\"C\")\n",
        "g_count = s.count(\"G\")\n",
        "t_count = s.count(\"T\")\n",
        "\n",
        "print(f\"A: {a_count}, C: {c_count}, G: {g_count}, T: {t_count}\")\n",
        "\n"
      ],
      "metadata": {
        "colab": {
          "base_uri": "https://localhost:8080/"
        },
        "id": "NphyqIJA-NNn",
        "outputId": "f6ba96e9-5749-4207-cf9f-b71a054929ee"
      },
      "execution_count": 10,
      "outputs": [
        {
          "output_type": "stream",
          "name": "stdout",
          "text": [
            "A: 20, C: 12, G: 17, T: 21\n"
          ]
        }
      ]
    },
    {
      "cell_type": "code",
      "source": [
        "with open(\"rosalind_dna.txt\", \"r\") as file:\n",
        "    s = file.read().strip()\n",
        "\n",
        "# count nucleotides\n",
        "a_count = s.count(\"A\")\n",
        "c_count = s.count(\"C\")\n",
        "g_count = s.count(\"G\")\n",
        "t_count = s.count(\"T\")\n",
        "\n",
        "print(f\"A: {a_count}, C: {c_count}, G: {g_count}, T: {t_count}\")"
      ],
      "metadata": {
        "colab": {
          "base_uri": "https://localhost:8080/"
        },
        "id": "ameHLVtmDSZF",
        "outputId": "a22b9ff6-58ca-455f-df0a-5e8038196ebe"
      },
      "execution_count": 11,
      "outputs": [
        {
          "output_type": "stream",
          "name": "stdout",
          "text": [
            "A: 235, C: 260, G: 223, T: 258\n"
          ]
        }
      ]
    },
    {
      "cell_type": "markdown",
      "source": [
        "#P19.2"
      ],
      "metadata": {
        "id": "FmSVpkzuEa1C"
      }
    },
    {
      "cell_type": "code",
      "source": [
        "passage = \"When I find myself in times of trouble Mother Mary comes to me Speaking words of wisdom let it be And in my hour of darkness she is standing right in front of me Speaking words of wisdom let it be Let it be let it be let it be let it be Whisper words of wisdom let it be And when the broken hearted people living in the world agree There will be an answer let it be For though they may be parted there is still a chance that they will see There will be an answer let it be Let it be let it be let it be let it be There will be an answer let it be Let it be let it be let it be let it be Whisper words of wisdom let it be Let it be let it be let it be let it be Whisper words of wisdom let it be And when the night is cloudy there is still a light that shines on me Shine until tomorrow let it be I wake up to the sound of music Mother Mary comes to me Speaking words of wisdom let it be Let it be let it be let it be yeah let it be There will be an answer let it be Let it be let it be let it be yeah let it be Whisper words of wisdom let it be\"\n",
        "\n",
        "words = passage.split(' ')\n",
        "word_dict = {}\n",
        "\n",
        "for word in words:\n",
        "    word_dict[word] = words.count(word)  # directly count occurrences\n",
        "\n",
        "for key, value in word_dict.items():\n",
        "    print(key, value)\n"
      ],
      "metadata": {
        "colab": {
          "base_uri": "https://localhost:8080/"
        },
        "id": "NMGRp55ZEDwq",
        "outputId": "b218ea07-e832-4c82-df8d-eb828192ffe4"
      },
      "execution_count": 12,
      "outputs": [
        {
          "output_type": "stream",
          "name": "stdout",
          "text": [
            "When 1\n",
            "I 2\n",
            "find 1\n",
            "myself 1\n",
            "in 4\n",
            "times 1\n",
            "of 11\n",
            "trouble 1\n",
            "Mother 2\n",
            "Mary 2\n",
            "comes 2\n",
            "to 3\n",
            "me 4\n",
            "Speaking 3\n",
            "words 7\n",
            "wisdom 7\n",
            "let 30\n",
            "it 36\n",
            "be 41\n",
            "And 3\n",
            "my 1\n",
            "hour 1\n",
            "darkness 1\n",
            "she 1\n",
            "is 4\n",
            "standing 1\n",
            "right 1\n",
            "front 1\n",
            "Let 6\n",
            "Whisper 4\n",
            "when 2\n",
            "the 4\n",
            "broken 1\n",
            "hearted 1\n",
            "people 1\n",
            "living 1\n",
            "world 1\n",
            "agree 1\n",
            "There 4\n",
            "will 5\n",
            "an 4\n",
            "answer 4\n",
            "For 1\n",
            "though 1\n",
            "they 2\n",
            "may 1\n",
            "parted 1\n",
            "there 2\n",
            "still 2\n",
            "a 2\n",
            "chance 1\n",
            "that 2\n",
            "see 1\n",
            "night 1\n",
            "cloudy 1\n",
            "light 1\n",
            "shines 1\n",
            "on 1\n",
            "Shine 1\n",
            "until 1\n",
            "tomorrow 1\n",
            "wake 1\n",
            "up 1\n",
            "sound 1\n",
            "music 1\n",
            "yeah 2\n"
          ]
        }
      ]
    }
  ]
}