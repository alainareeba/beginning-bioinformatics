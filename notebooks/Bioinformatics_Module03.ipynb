{
  "nbformat": 4,
  "nbformat_minor": 0,
  "metadata": {
    "colab": {
      "provenance": []
    },
    "kernelspec": {
      "name": "python3",
      "display_name": "Python 3"
    },
    "language_info": {
      "name": "python"
    }
  },
  "cells": [
    {
      "cell_type": "code",
      "execution_count": null,
      "metadata": {
        "colab": {
          "base_uri": "https://localhost:8080/"
        },
        "id": "q7tzuCVcFdTj",
        "outputId": "c43f8371-e12e-43c3-98f9-5067fb79c81e"
      },
      "outputs": [
        {
          "output_type": "stream",
          "name": "stdout",
          "text": [
            "Hello World!\n"
          ]
        }
      ],
      "source": [
        "print (\"Hello World!\")"
      ]
    },
    {
      "cell_type": "code",
      "source": [
        "x=5\n",
        "print(x)"
      ],
      "metadata": {
        "colab": {
          "base_uri": "https://localhost:8080/"
        },
        "id": "XDmiiCaVGJLi",
        "outputId": "1932faf2-d4ab-4284-c33a-1ded049d9feb"
      },
      "execution_count": null,
      "outputs": [
        {
          "output_type": "stream",
          "name": "stdout",
          "text": [
            "5\n"
          ]
        }
      ]
    },
    {
      "cell_type": "markdown",
      "metadata": {
        "id": "cd7dc669"
      },
      "source": [
        "In Python, the assignment operator (`=`) is used to assign values to variables. Here are three examples:\n",
        "\n",
        "1.  **Assigning a numerical value:**"
      ]
    },
    {
      "cell_type": "code",
      "metadata": {
        "colab": {
          "base_uri": "https://localhost:8080/"
        },
        "id": "dabb4edc",
        "outputId": "7dad583a-b946-4980-bdc1-3dda9f9da6ef"
      },
      "source": [
        "    # Assign the string \"Alice\" to the variable 'name'\n",
        "    name = \"Alice\"\n",
        "    print(name)"
      ],
      "execution_count": null,
      "outputs": [
        {
          "output_type": "stream",
          "name": "stdout",
          "text": [
            "Alice\n"
          ]
        }
      ]
    },
    {
      "cell_type": "code",
      "metadata": {
        "colab": {
          "base_uri": "https://localhost:8080/"
        },
        "id": "614f8b12",
        "outputId": "9fd26eca-86da-4ff9-fc73-9e798ca722db"
      },
      "source": [
        "    # Assign the result of the addition (5 + 3) to the variable 'sum_result'\n",
        "    sum_result = 5 + 3\n",
        "    print(sum_result)"
      ],
      "execution_count": null,
      "outputs": [
        {
          "output_type": "stream",
          "name": "stdout",
          "text": [
            "8\n"
          ]
        }
      ]
    },
    {
      "cell_type": "code",
      "metadata": {
        "colab": {
          "base_uri": "https://localhost:8080/"
        },
        "id": "1e860624",
        "outputId": "96dd8c30-2716-4d1c-d7ec-a2715acc194a"
      },
      "source": [
        "# Assign the boolean value True to the variable 'is_active'\n",
        "is_active = True\n",
        "print(is_active)"
      ],
      "execution_count": null,
      "outputs": [
        {
          "output_type": "stream",
          "name": "stdout",
          "text": [
            "True\n"
          ]
        }
      ]
    },
    {
      "cell_type": "code",
      "source": [
        "a=3\n",
        "b=5\n",
        "c=a**2+b**2\n",
        "c"
      ],
      "metadata": {
        "colab": {
          "base_uri": "https://localhost:8080/"
        },
        "id": "yuxHQrhYHtE9",
        "outputId": "86c6fc4b-2e18-41e4-ce66-fbaa36c46854"
      },
      "execution_count": null,
      "outputs": [
        {
          "output_type": "execute_result",
          "data": {
            "text/plain": [
              "34"
            ]
          },
          "metadata": {},
          "execution_count": 9
        }
      ]
    },
    {
      "cell_type": "markdown",
      "source": [
        "Download the dataset and put the dataset in the code, then paste the right answer. Upload your code as well"
      ],
      "metadata": {
        "id": "cx5F3BP-IiPz"
      }
    },
    {
      "cell_type": "code",
      "source": [
        "## Rosalind Question #1\n",
        "a=934\n",
        "b=814\n",
        "c=a**2+b**2\n",
        "print(c)"
      ],
      "metadata": {
        "id": "TCkDKX4MIh6u",
        "colab": {
          "base_uri": "https://localhost:8080/"
        },
        "outputId": "c4e087d7-5797-48e3-af6c-693fec0fa07a"
      },
      "execution_count": null,
      "outputs": [
        {
          "output_type": "stream",
          "name": "stdout",
          "text": [
            "1534952\n"
          ]
        }
      ]
    },
    {
      "cell_type": "markdown",
      "source": [
        "#P6.1"
      ],
      "metadata": {
        "id": "J_4OVtEkuSwZ"
      }
    },
    {
      "cell_type": "code",
      "source": [
        "# Input usage\n",
        "name = input(\"Enter your name: \")\n",
        "print(\"Hello, \" + name)"
      ],
      "metadata": {
        "colab": {
          "base_uri": "https://localhost:8080/"
        },
        "id": "bAA-cx_Vt9S3",
        "outputId": "abb4da43-515e-459f-9d63-fefa85af04b5"
      },
      "execution_count": null,
      "outputs": [
        {
          "output_type": "stream",
          "name": "stdout",
          "text": [
            "Enter your name: Alain\n",
            "Hello, Alain\n"
          ]
        }
      ]
    },
    {
      "cell_type": "markdown",
      "source": [
        "#P6.2"
      ],
      "metadata": {
        "id": "gLdidPlIuYz3"
      }
    },
    {
      "cell_type": "code",
      "source": [
        "#Input usage for Rosalind #1\n",
        "a= input(\"What is the value of a? \")\n",
        "b= input(\"What is the value of b? \")\n",
        "c=int(a)**2+int(b)**2 # must put int in front that whatever input is turned into a int\n",
        "print(c)"
      ],
      "metadata": {
        "colab": {
          "base_uri": "https://localhost:8080/"
        },
        "id": "Db7SBP7quch4",
        "outputId": "bd860479-0294-47e5-cfa1-f0fa9b824ad8"
      },
      "execution_count": null,
      "outputs": [
        {
          "output_type": "stream",
          "name": "stdout",
          "text": [
            "What is the value of a? 834\n",
            "What is the value of b? 254\n",
            "760072\n"
          ]
        }
      ]
    },
    {
      "cell_type": "markdown",
      "source": [
        "#P7.1"
      ],
      "metadata": {
        "id": "xHxaIZ5-vquN"
      }
    },
    {
      "cell_type": "code",
      "source": [
        "my_list = [\"Hello\", \"World\", \"Charles Darwin\"]\n",
        "print(my_list[1])"
      ],
      "metadata": {
        "colab": {
          "base_uri": "https://localhost:8080/"
        },
        "id": "nu13nXlDvs1z",
        "outputId": "3eb89abc-41dd-41fb-96bb-f77eaf18cbc6"
      },
      "execution_count": null,
      "outputs": [
        {
          "output_type": "stream",
          "name": "stdout",
          "text": [
            "World\n"
          ]
        }
      ]
    },
    {
      "cell_type": "markdown",
      "source": [
        "#P7.2"
      ],
      "metadata": {
        "id": "3WmT5HcZ_o-k"
      }
    },
    {
      "cell_type": "code",
      "source": [
        "my_list[2]=\"Alfred R. Wallace\"\n",
        "print(my_list)"
      ],
      "metadata": {
        "colab": {
          "base_uri": "https://localhost:8080/"
        },
        "id": "cc-AfySV_rZs",
        "outputId": "51429412-ea6e-4f0c-8a04-3e5a57e51426"
      },
      "execution_count": null,
      "outputs": [
        {
          "output_type": "stream",
          "name": "stdout",
          "text": [
            "['Hello', 'World', 'Alfred R. Wallace']\n"
          ]
        }
      ]
    },
    {
      "cell_type": "markdown",
      "source": [
        "#P7.3"
      ],
      "metadata": {
        "id": "Jd1uraK4_6u8"
      }
    },
    {
      "cell_type": "code",
      "source": [
        "my_list.append(\"Charles Darwin\")\n",
        "print(my_list)"
      ],
      "metadata": {
        "colab": {
          "base_uri": "https://localhost:8080/"
        },
        "id": "aUenNCII_9Zd",
        "outputId": "cdd73157-7dd5-4002-e4a4-e92297b9a629"
      },
      "execution_count": null,
      "outputs": [
        {
          "output_type": "stream",
          "name": "stdout",
          "text": [
            "['Hello', 'World', 'Alfred R. Wallace', 'Charles Darwin']\n"
          ]
        }
      ]
    },
    {
      "cell_type": "markdown",
      "source": [
        "#P7.4"
      ],
      "metadata": {
        "id": "s-X0b8GNAF7-"
      }
    },
    {
      "cell_type": "code",
      "source": [],
      "metadata": {
        "colab": {
          "base_uri": "https://localhost:8080/"
        },
        "id": "OtNftMTtBuF-",
        "outputId": "42d5ba1b-1bcc-406e-af27-c4f934e13c05"
      },
      "execution_count": null,
      "outputs": [
        {
          "output_type": "stream",
          "name": "stdout",
          "text": [
            "['Hello', 'Rosalind Franklin', 'World', 'Alfred R. Wallace', 'Charles Darwin']\n"
          ]
        }
      ]
    },
    {
      "cell_type": "markdown",
      "source": [
        "#P8.1"
      ],
      "metadata": {
        "id": "Jp42YhriAo1Z"
      }
    },
    {
      "cell_type": "code",
      "source": [
        "print (my_list[2:4]) #endpoints are non-inclusive"
      ],
      "metadata": {
        "colab": {
          "base_uri": "https://localhost:8080/"
        },
        "id": "ivc_qVO5BCaP",
        "outputId": "3dc53165-97dc-4ed1-8b34-c1b092872094"
      },
      "execution_count": null,
      "outputs": [
        {
          "output_type": "stream",
          "name": "stdout",
          "text": [
            "['World', 'Alfred R. Wallace']\n"
          ]
        }
      ]
    },
    {
      "cell_type": "code",
      "source": [
        "my_string=\"HelloWorldCharlesDarwinAlfred R. Walace\"\n",
        "print(my_string[0:5], my_string[5:10])"
      ],
      "metadata": {
        "colab": {
          "base_uri": "https://localhost:8080/"
        },
        "id": "WTPxOj73CaIP",
        "outputId": "a5c8b4ed-a503-46df-b91e-4da5d351c171"
      },
      "execution_count": null,
      "outputs": [
        {
          "output_type": "stream",
          "name": "stdout",
          "text": [
            "Hello World\n"
          ]
        }
      ]
    },
    {
      "cell_type": "markdown",
      "source": [
        "#P8.2"
      ],
      "metadata": {
        "id": "zr-GIDh2LirR"
      }
    },
    {
      "cell_type": "code",
      "source": [
        "print(my_string[33:39], my_string[5:10])"
      ],
      "metadata": {
        "colab": {
          "base_uri": "https://localhost:8080/"
        },
        "id": "6gmmmj7AEFz7",
        "outputId": "440388bc-d4a2-44fc-8e7c-710a8c13222c"
      },
      "execution_count": null,
      "outputs": [
        {
          "output_type": "stream",
          "name": "stdout",
          "text": [
            "Walace World\n"
          ]
        }
      ]
    },
    {
      "cell_type": "markdown",
      "source": [
        "#P8.3: Rosalind Problem #2"
      ],
      "metadata": {
        "id": "F4Uik9FKLuJ5"
      }
    },
    {
      "cell_type": "code",
      "source": [
        "my_string2=\"HumptyDumptysatonawallHumptyDumptyhadagreatfallAlltheKingshorsesandalltheKingsmenCouldntputHumptyDumptyinhisplaceagain.\"\n",
        "\n",
        "print(my_string2[22:28],my_string2[97:103])"
      ],
      "metadata": {
        "colab": {
          "base_uri": "https://localhost:8080/"
        },
        "id": "5UNn-BKHL1cS",
        "outputId": "bc3fa41c-c1fe-4818-f2fc-d35fb26b11c1"
      },
      "execution_count": null,
      "outputs": [
        {
          "output_type": "stream",
          "name": "stdout",
          "text": [
            "Humpty Dumpty\n"
          ]
        }
      ]
    },
    {
      "cell_type": "code",
      "source": [
        "my_string3=\"Pv6RwUIbq2B5555dMHq0MmWsLxRESVJPm84PSEPA3WOEDtLBzQKKHquV9Gqb7UoYlYldSUCiconiaR5AWBFtS0Y8Xumy6YBFBTleptochelisIstdrAl3hAORXijhE7nGIl29l61VxcI5vYfXhrenHlEQqyrytJlQERfBc5DWAqKl7phiZ\"\n",
        "\n",
        "print(my_string3[70:77], my_string3[98:109])"
      ],
      "metadata": {
        "colab": {
          "base_uri": "https://localhost:8080/"
        },
        "id": "9bZFANC7RhGd",
        "outputId": "38919137-c1f4-41c8-8c65-3f200651d9ce"
      },
      "execution_count": null,
      "outputs": [
        {
          "output_type": "stream",
          "name": "stdout",
          "text": [
            "Ciconia leptochelis\n"
          ]
        }
      ]
    },
    {
      "cell_type": "markdown",
      "source": [
        "#P9.1"
      ],
      "metadata": {
        "id": "WAbzvgMNw0NS"
      }
    },
    {
      "cell_type": "code",
      "source": [
        "a=5\n",
        "b=5\n",
        "if a!=b:\n",
        "  print(a-b)\n",
        "else:\n",
        "  print(a+b)"
      ],
      "metadata": {
        "colab": {
          "base_uri": "https://localhost:8080/"
        },
        "id": "QzGUxyB2xUFk",
        "outputId": "8d70ce54-bbab-4848-e5fe-5a4be5e965e5"
      },
      "execution_count": null,
      "outputs": [
        {
          "output_type": "stream",
          "name": "stdout",
          "text": [
            "10\n"
          ]
        }
      ]
    },
    {
      "cell_type": "markdown",
      "source": [
        "#P10.1"
      ],
      "metadata": {
        "id": "6h8Da_M-xsc4"
      }
    },
    {
      "cell_type": "code",
      "source": [
        "a=1\n",
        "while a <= 3:\n",
        "  print(\"Counting!\")\n",
        "  a +=1"
      ],
      "metadata": {
        "colab": {
          "base_uri": "https://localhost:8080/"
        },
        "id": "mun8L0oKxt2P",
        "outputId": "888bbe26-7775-43ca-b9b9-fbc3c59f611d"
      },
      "execution_count": null,
      "outputs": [
        {
          "output_type": "stream",
          "name": "stdout",
          "text": [
            "Counting!\n",
            "Counting!\n",
            "Counting!\n"
          ]
        }
      ]
    },
    {
      "cell_type": "code",
      "source": [
        "a=1\n",
        "while a <= 3:\n",
        "  print(\"Counting!\" * a)\n",
        "  a +=1"
      ],
      "metadata": {
        "colab": {
          "base_uri": "https://localhost:8080/"
        },
        "id": "Ewq0Xn6ryMKD",
        "outputId": "36f7f957-cd12-49ba-c0ec-2a8204c86236"
      },
      "execution_count": null,
      "outputs": [
        {
          "output_type": "stream",
          "name": "stdout",
          "text": [
            "Counting!\n",
            "Counting!Counting!\n",
            "Counting!Counting!Counting!\n"
          ]
        }
      ]
    },
    {
      "cell_type": "markdown",
      "source": [
        "#P11.1"
      ],
      "metadata": {
        "id": "6bC2B5q1ygeC"
      }
    },
    {
      "cell_type": "code",
      "source": [
        "names = [\"Alice\",\"Bob\",\"Charley\"]\n",
        "for name in names:\n",
        "  print(\"Hello\", name)"
      ],
      "metadata": {
        "colab": {
          "base_uri": "https://localhost:8080/"
        },
        "id": "M3y33DgpyiRL",
        "outputId": "200622f6-6390-4a40-fc5c-46e8098a6bcc"
      },
      "execution_count": null,
      "outputs": [
        {
          "output_type": "stream",
          "name": "stdout",
          "text": [
            "Hello Alice\n",
            "Hello Bob\n",
            "Hello Charley\n"
          ]
        }
      ]
    },
    {
      "cell_type": "markdown",
      "source": [
        "#P12.1"
      ],
      "metadata": {
        "id": "M4o-BjNpy5i-"
      }
    },
    {
      "cell_type": "code",
      "source": [
        "iterations = 10\n",
        "for number in range(iterations):\n",
        "  print(number)"
      ],
      "metadata": {
        "colab": {
          "base_uri": "https://localhost:8080/"
        },
        "id": "DhW06mQ0yukn",
        "outputId": "af895b2f-5f30-4058-f399-b3ef7b245a4a"
      },
      "execution_count": null,
      "outputs": [
        {
          "output_type": "stream",
          "name": "stdout",
          "text": [
            "0\n",
            "1\n",
            "2\n",
            "3\n",
            "4\n",
            "5\n",
            "6\n",
            "7\n",
            "8\n",
            "9\n"
          ]
        }
      ]
    },
    {
      "cell_type": "markdown",
      "source": [
        "#P12.2"
      ],
      "metadata": {
        "id": "ZCIk16Nhz1-r"
      }
    },
    {
      "cell_type": "code",
      "source": [
        "for number in range(9, 28, 3): #starts at 9, ends at 27, hops by 3\n",
        "    print(number)"
      ],
      "metadata": {
        "colab": {
          "base_uri": "https://localhost:8080/"
        },
        "id": "whZECnOuz3vZ",
        "outputId": "70e04cd8-765a-4076-caa5-76294016ee79"
      },
      "execution_count": null,
      "outputs": [
        {
          "output_type": "stream",
          "name": "stdout",
          "text": [
            "9\n",
            "12\n",
            "15\n",
            "18\n",
            "21\n",
            "24\n",
            "27\n"
          ]
        }
      ]
    },
    {
      "cell_type": "markdown",
      "source": [
        "#P12.3 Rosalind Problem #3\n",
        "\n",
        "\n"
      ],
      "metadata": {
        "id": "BMDhf874zHNM"
      }
    },
    {
      "cell_type": "code",
      "source": [
        "a = 100\n",
        "b = 200\n",
        "\n",
        "total = sum(number for number in range(a, b + 1) if number % 2 == 1)\n",
        "        # sum = adding them up\n",
        "        # range(a,b+1)= makes sure it's including the actual numbers\n",
        "        # not the one before it\n",
        "        # used the hint to make sure its odd\n",
        "print(total)"
      ],
      "metadata": {
        "colab": {
          "base_uri": "https://localhost:8080/"
        },
        "id": "WIOWOrT61sSo",
        "outputId": "cfa74531-d6ed-43e6-c8fc-0ca2a29c291c"
      },
      "execution_count": null,
      "outputs": [
        {
          "output_type": "stream",
          "name": "stdout",
          "text": [
            "7500\n"
          ]
        }
      ]
    },
    {
      "cell_type": "code",
      "source": [
        "a=4782\n",
        "b=9578\n",
        "total = sum(number for number in range(a, b + 1) if number % 2 == 1)\n",
        "print(total)"
      ],
      "metadata": {
        "colab": {
          "base_uri": "https://localhost:8080/"
        },
        "id": "BoP29FHK23yO",
        "outputId": "824002f7-3486-4c55-f997-983135785297"
      },
      "execution_count": null,
      "outputs": [
        {
          "output_type": "stream",
          "name": "stdout",
          "text": [
            "17217640\n"
          ]
        }
      ]
    },
    {
      "cell_type": "markdown",
      "source": [
        "#P13.2"
      ],
      "metadata": {
        "id": "4LfzO9zXamou"
      }
    },
    {
      "cell_type": "code",
      "source": [
        "with open(\"rosalind_ini5 (2).txt\") as data:\n",
        "  print(data.readline())\n"
      ],
      "metadata": {
        "id": "DNqYKRoRXIIj",
        "colab": {
          "base_uri": "https://localhost:8080/"
        },
        "outputId": "a9bf8d95-bd36-46da-861d-a626d919e1e1"
      },
      "execution_count": 1,
      "outputs": [
        {
          "output_type": "stream",
          "name": "stdout",
          "text": [
            "`Twas brillig, and the slithy toves\n",
            "\n"
          ]
        }
      ]
    },
    {
      "cell_type": "markdown",
      "source": [
        "#P15.2"
      ],
      "metadata": {
        "id": "GDKNY2uh7Lb8"
      }
    },
    {
      "cell_type": "code",
      "source": [
        "with open(\"rosalind_ini5 (2).txt\") as input, open(\"output.txt\", \"w\") as output:\n",
        "    for i, line in enumerate(input, start=1):\n",
        "        if i % 2 == 0:\n",
        "            output.write(line)   # write to output file\n",
        "            print(line, end=\"\")   # print here so we can see"
      ],
      "metadata": {
        "colab": {
          "base_uri": "https://localhost:8080/"
        },
        "id": "FsLGfFVrUDAH",
        "outputId": "07854bcd-b5a2-44df-b3ae-eb7a29143785"
      },
      "execution_count": null,
      "outputs": [
        {
          "output_type": "stream",
          "name": "stdout",
          "text": [
            "Some things in life are bad, they can really make you mad\n",
            "Other things just make you swear and curse\n",
            "When you're chewing on life's gristle, don't grumble give a whistle\n",
            "This will help things turn out for the best\n",
            "Always look on the bright side of life\n",
            "Always look on the right side of life\n",
            "If life seems jolly rotten, there's something you've forgotten\n",
            "And that's to laugh and smile and dance and sing\n",
            "When you're feeling in the dumps, don't be silly, chumps\n",
            "Just purse your lips and whistle, that's the thing\n",
            "So, always look on the bright side of death\n",
            "Just before you draw your terminal breath\n",
            "Life's a counterfeit and when you look at it\n",
            "Life's a laugh and death's the joke, it's true\n",
            "You see, it's all a show, keep them laughing as you go\n",
            "Just remember the last laugh is on you\n",
            "Always look on the bright side of life\n",
            "And always look on the right side of life\n",
            "Always look on the bright side of life\n",
            "And always look on the right side of life\n"
          ]
        }
      ]
    },
    {
      "cell_type": "code",
      "source": [],
      "metadata": {
        "id": "U931d2KCy2mM"
      },
      "execution_count": null,
      "outputs": []
    }
  ]
}