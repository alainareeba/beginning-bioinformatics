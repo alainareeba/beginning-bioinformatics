{
  "nbformat": 4,
  "nbformat_minor": 0,
  "metadata": {
    "colab": {
      "provenance": []
    },
    "kernelspec": {
      "name": "python3",
      "display_name": "Python 3"
    },
    "language_info": {
      "name": "python"
    }
  },
  "cells": [
    {
      "cell_type": "code",
      "execution_count": null,
      "metadata": {
        "colab": {
          "base_uri": "https://localhost:8080/"
        },
        "id": "q7tzuCVcFdTj",
        "outputId": "c43f8371-e12e-43c3-98f9-5067fb79c81e"
      },
      "outputs": [
        {
          "output_type": "stream",
          "name": "stdout",
          "text": [
            "Hello World!\n"
          ]
        }
      ],
      "source": [
        "print (\"Hello World!\")"
      ]
    },
    {
      "cell_type": "code",
      "source": [
        "x=5\n",
        "print(x)"
      ],
      "metadata": {
        "colab": {
          "base_uri": "https://localhost:8080/"
        },
        "id": "XDmiiCaVGJLi",
        "outputId": "1932faf2-d4ab-4284-c33a-1ded049d9feb"
      },
      "execution_count": null,
      "outputs": [
        {
          "output_type": "stream",
          "name": "stdout",
          "text": [
            "5\n"
          ]
        }
      ]
    },
    {
      "cell_type": "markdown",
      "metadata": {
        "id": "cd7dc669"
      },
      "source": [
        "In Python, the assignment operator (`=`) is used to assign values to variables. Here are three examples:\n",
        "\n",
        "1.  **Assigning a numerical value:**"
      ]
    },
    {
      "cell_type": "code",
      "metadata": {
        "colab": {
          "base_uri": "https://localhost:8080/"
        },
        "id": "dabb4edc",
        "outputId": "7dad583a-b946-4980-bdc1-3dda9f9da6ef"
      },
      "source": [
        "    # Assign the string \"Alice\" to the variable 'name'\n",
        "    name = \"Alice\"\n",
        "    print(name)"
      ],
      "execution_count": null,
      "outputs": [
        {
          "output_type": "stream",
          "name": "stdout",
          "text": [
            "Alice\n"
          ]
        }
      ]
    },
    {
      "cell_type": "code",
      "metadata": {
        "colab": {
          "base_uri": "https://localhost:8080/"
        },
        "id": "614f8b12",
        "outputId": "9fd26eca-86da-4ff9-fc73-9e798ca722db"
      },
      "source": [
        "    # Assign the result of the addition (5 + 3) to the variable 'sum_result'\n",
        "    sum_result = 5 + 3\n",
        "    print(sum_result)"
      ],
      "execution_count": null,
      "outputs": [
        {
          "output_type": "stream",
          "name": "stdout",
          "text": [
            "8\n"
          ]
        }
      ]
    },
    {
      "cell_type": "code",
      "metadata": {
        "colab": {
          "base_uri": "https://localhost:8080/"
        },
        "id": "1e860624",
        "outputId": "96dd8c30-2716-4d1c-d7ec-a2715acc194a"
      },
      "source": [
        "# Assign the boolean value True to the variable 'is_active'\n",
        "is_active = True\n",
        "print(is_active)"
      ],
      "execution_count": null,
      "outputs": [
        {
          "output_type": "stream",
          "name": "stdout",
          "text": [
            "True\n"
          ]
        }
      ]
    },
    {
      "cell_type": "code",
      "source": [
        "a=3\n",
        "b=5\n",
        "c=a**2+b**2\n",
        "c"
      ],
      "metadata": {
        "colab": {
          "base_uri": "https://localhost:8080/"
        },
        "id": "yuxHQrhYHtE9",
        "outputId": "86c6fc4b-2e18-41e4-ce66-fbaa36c46854"
      },
      "execution_count": null,
      "outputs": [
        {
          "output_type": "execute_result",
          "data": {
            "text/plain": [
              "34"
            ]
          },
          "metadata": {},
          "execution_count": 9
        }
      ]
    },
    {
      "cell_type": "markdown",
      "source": [
        "Download the dataset and put the dataset in the code, then paste the right answer. Upload your code as well"
      ],
      "metadata": {
        "id": "cx5F3BP-IiPz"
      }
    },
    {
      "cell_type": "code",
      "source": [
        "## Rosalind Question #1\n",
        "a=934\n",
        "b=814\n",
        "c=a**2+b**2\n",
        "print(c)"
      ],
      "metadata": {
        "id": "TCkDKX4MIh6u",
        "colab": {
          "base_uri": "https://localhost:8080/"
        },
        "outputId": "c4e087d7-5797-48e3-af6c-693fec0fa07a"
      },
      "execution_count": 1,
      "outputs": [
        {
          "output_type": "stream",
          "name": "stdout",
          "text": [
            "1534952\n"
          ]
        }
      ]
    },
    {
      "cell_type": "markdown",
      "source": [
        "#P6.1"
      ],
      "metadata": {
        "id": "J_4OVtEkuSwZ"
      }
    },
    {
      "cell_type": "code",
      "source": [
        "# Input usage\n",
        "name = input(\"Enter your name: \")\n",
        "print(\"Hello, \" + name)"
      ],
      "metadata": {
        "colab": {
          "base_uri": "https://localhost:8080/"
        },
        "id": "bAA-cx_Vt9S3",
        "outputId": "abb4da43-515e-459f-9d63-fefa85af04b5"
      },
      "execution_count": 2,
      "outputs": [
        {
          "output_type": "stream",
          "name": "stdout",
          "text": [
            "Enter your name: Alain\n",
            "Hello, Alain\n"
          ]
        }
      ]
    },
    {
      "cell_type": "markdown",
      "source": [
        "#P6.2"
      ],
      "metadata": {
        "id": "gLdidPlIuYz3"
      }
    },
    {
      "cell_type": "code",
      "source": [
        "#Input usage for Rosalind #1\n",
        "a= input(\"What is the value of a? \")\n",
        "b= input(\"What is the value of b? \")\n",
        "c=int(a)**2+int(b)**2 # must put int in front that whatever input is turned into a int\n",
        "print(c)"
      ],
      "metadata": {
        "colab": {
          "base_uri": "https://localhost:8080/"
        },
        "id": "Db7SBP7quch4",
        "outputId": "bd860479-0294-47e5-cfa1-f0fa9b824ad8"
      },
      "execution_count": 6,
      "outputs": [
        {
          "output_type": "stream",
          "name": "stdout",
          "text": [
            "What is the value of a? 834\n",
            "What is the value of b? 254\n",
            "760072\n"
          ]
        }
      ]
    },
    {
      "cell_type": "markdown",
      "source": [
        "#P7.1"
      ],
      "metadata": {
        "id": "xHxaIZ5-vquN"
      }
    },
    {
      "cell_type": "code",
      "source": [
        "my_list = [\"Hello\", \"World\", \"Charles Darwin\"]\n",
        "print(my_list[1])"
      ],
      "metadata": {
        "colab": {
          "base_uri": "https://localhost:8080/"
        },
        "id": "nu13nXlDvs1z",
        "outputId": "3eb89abc-41dd-41fb-96bb-f77eaf18cbc6"
      },
      "execution_count": 16,
      "outputs": [
        {
          "output_type": "stream",
          "name": "stdout",
          "text": [
            "World\n"
          ]
        }
      ]
    },
    {
      "cell_type": "markdown",
      "source": [
        "#P7.2"
      ],
      "metadata": {
        "id": "3WmT5HcZ_o-k"
      }
    },
    {
      "cell_type": "code",
      "source": [
        "my_list[2]=\"Alfred R. Wallace\"\n",
        "print(my_list)"
      ],
      "metadata": {
        "colab": {
          "base_uri": "https://localhost:8080/"
        },
        "id": "cc-AfySV_rZs",
        "outputId": "51429412-ea6e-4f0c-8a04-3e5a57e51426"
      },
      "execution_count": 17,
      "outputs": [
        {
          "output_type": "stream",
          "name": "stdout",
          "text": [
            "['Hello', 'World', 'Alfred R. Wallace']\n"
          ]
        }
      ]
    },
    {
      "cell_type": "markdown",
      "source": [
        "#P7.3"
      ],
      "metadata": {
        "id": "Jd1uraK4_6u8"
      }
    },
    {
      "cell_type": "code",
      "source": [
        "my_list.append(\"Charles Darwin\")\n",
        "print(my_list)"
      ],
      "metadata": {
        "colab": {
          "base_uri": "https://localhost:8080/"
        },
        "id": "aUenNCII_9Zd",
        "outputId": "cdd73157-7dd5-4002-e4a4-e92297b9a629"
      },
      "execution_count": 18,
      "outputs": [
        {
          "output_type": "stream",
          "name": "stdout",
          "text": [
            "['Hello', 'World', 'Alfred R. Wallace', 'Charles Darwin']\n"
          ]
        }
      ]
    },
    {
      "cell_type": "markdown",
      "source": [
        "#P7.4"
      ],
      "metadata": {
        "id": "s-X0b8GNAF7-"
      }
    },
    {
      "cell_type": "code",
      "source": [],
      "metadata": {
        "colab": {
          "base_uri": "https://localhost:8080/"
        },
        "id": "OtNftMTtBuF-",
        "outputId": "42d5ba1b-1bcc-406e-af27-c4f934e13c05"
      },
      "execution_count": 19,
      "outputs": [
        {
          "output_type": "stream",
          "name": "stdout",
          "text": [
            "['Hello', 'Rosalind Franklin', 'World', 'Alfred R. Wallace', 'Charles Darwin']\n"
          ]
        }
      ]
    },
    {
      "cell_type": "markdown",
      "source": [
        "#P8.1"
      ],
      "metadata": {
        "id": "Jp42YhriAo1Z"
      }
    },
    {
      "cell_type": "code",
      "source": [
        "print (my_list[2:4]) #endpoints are non-inclusive"
      ],
      "metadata": {
        "colab": {
          "base_uri": "https://localhost:8080/"
        },
        "id": "ivc_qVO5BCaP",
        "outputId": "3dc53165-97dc-4ed1-8b34-c1b092872094"
      },
      "execution_count": 20,
      "outputs": [
        {
          "output_type": "stream",
          "name": "stdout",
          "text": [
            "['World', 'Alfred R. Wallace']\n"
          ]
        }
      ]
    },
    {
      "cell_type": "code",
      "source": [
        "my_string=\"HelloWorldCharlesDarwinAlfred R. Walace\"\n",
        "print(my_string[0:5], my_string[5:10])"
      ],
      "metadata": {
        "colab": {
          "base_uri": "https://localhost:8080/"
        },
        "id": "WTPxOj73CaIP",
        "outputId": "a5c8b4ed-a503-46df-b91e-4da5d351c171"
      },
      "execution_count": 21,
      "outputs": [
        {
          "output_type": "stream",
          "name": "stdout",
          "text": [
            "Hello World\n"
          ]
        }
      ]
    },
    {
      "cell_type": "markdown",
      "source": [
        "#P8.2"
      ],
      "metadata": {
        "id": "zr-GIDh2LirR"
      }
    },
    {
      "cell_type": "code",
      "source": [
        "print(my_string[33:39], my_string[5:10])"
      ],
      "metadata": {
        "colab": {
          "base_uri": "https://localhost:8080/"
        },
        "id": "6gmmmj7AEFz7",
        "outputId": "440388bc-d4a2-44fc-8e7c-710a8c13222c"
      },
      "execution_count": 25,
      "outputs": [
        {
          "output_type": "stream",
          "name": "stdout",
          "text": [
            "Walace World\n"
          ]
        }
      ]
    },
    {
      "cell_type": "markdown",
      "source": [
        "#P8.3"
      ],
      "metadata": {
        "id": "F4Uik9FKLuJ5"
      }
    },
    {
      "cell_type": "code",
      "source": [
        "my_string2=\"HumptyDumptysatonawallHumptyDumptyhadagreatfallAlltheKingshorsesandalltheKingsmenCouldntputHumptyDumptyinhisplaceagain.\"\n",
        "\n",
        "print(my_string2[22:28],my_string2[97:103])"
      ],
      "metadata": {
        "colab": {
          "base_uri": "https://localhost:8080/"
        },
        "id": "5UNn-BKHL1cS",
        "outputId": "bc3fa41c-c1fe-4818-f2fc-d35fb26b11c1"
      },
      "execution_count": 36,
      "outputs": [
        {
          "output_type": "stream",
          "name": "stdout",
          "text": [
            "Humpty Dumpty\n"
          ]
        }
      ]
    },
    {
      "cell_type": "code",
      "source": [
        "my_string3=\"Pv6RwUIbq2B5555dMHq0MmWsLxRESVJPm84PSEPA3WOEDtLBzQKKHquV9Gqb7UoYlYldSUCiconiaR5AWBFtS0Y8Xumy6YBFBTleptochelisIstdrAl3hAORXijhE7nGIl29l61VxcI5vYfXhrenHlEQqyrytJlQERfBc5DWAqKl7phiZ\"\n",
        "\n",
        "print(my_string3[70:77], my_string3[98:109])"
      ],
      "metadata": {
        "colab": {
          "base_uri": "https://localhost:8080/"
        },
        "id": "9bZFANC7RhGd",
        "outputId": "38919137-c1f4-41c8-8c65-3f200651d9ce"
      },
      "execution_count": 37,
      "outputs": [
        {
          "output_type": "stream",
          "name": "stdout",
          "text": [
            "Ciconia leptochelis\n"
          ]
        }
      ]
    }
  ]
}